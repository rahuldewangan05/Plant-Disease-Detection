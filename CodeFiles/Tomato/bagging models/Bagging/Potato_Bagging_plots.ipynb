{
  "nbformat": 4,
  "nbformat_minor": 0,
  "metadata": {
    "colab": {
      "provenance": [],
      "gpuType": "V28"
    },
    "kernelspec": {
      "name": "python3",
      "display_name": "Python 3"
    },
    "language_info": {
      "name": "python"
    },
    "accelerator": "TPU"
  },
  "cells": [
    {
      "cell_type": "code",
      "source": [
        "from google.colab import drive\n",
        "drive.mount('/content/drive')"
      ],
      "metadata": {
        "colab": {
          "base_uri": "https://localhost:8080/"
        },
        "id": "kaIOsXfDQNDY",
        "outputId": "4828c185-7efa-4f41-a010-06e725f4e7c4"
      },
      "execution_count": 1,
      "outputs": [
        {
          "output_type": "stream",
          "name": "stdout",
          "text": [
            "Mounted at /content/drive\n"
          ]
        }
      ]
    },
    {
      "cell_type": "code",
      "source": [
        "pip uninstall tensorflow"
      ],
      "metadata": {
        "colab": {
          "base_uri": "https://localhost:8080/"
        },
        "id": "ZqpoW2hnkIrI",
        "outputId": "1f9bfcf0-7363-4623-b2b2-6d21fbf2b453"
      },
      "execution_count": 7,
      "outputs": [
        {
          "output_type": "stream",
          "name": "stdout",
          "text": [
            "Found existing installation: tensorflow 2.18.0\n",
            "Uninstalling tensorflow-2.18.0:\n",
            "  Would remove:\n",
            "    /usr/local/bin/import_pb_to_tensorboard\n",
            "    /usr/local/bin/saved_model_cli\n",
            "    /usr/local/bin/tensorboard\n",
            "    /usr/local/bin/tf_upgrade_v2\n",
            "    /usr/local/bin/tflite_convert\n",
            "    /usr/local/bin/toco\n",
            "    /usr/local/bin/toco_from_protos\n",
            "    /usr/local/lib/python3.11/dist-packages/tensorflow-2.18.0.dist-info/*\n",
            "    /usr/local/lib/python3.11/dist-packages/tensorflow/*\n",
            "  Would not remove (might be manually added):\n",
            "    /usr/local/lib/python3.11/dist-packages/tensorflow/include/external/com_google_highway/hwy/aligned_allocator.h\n",
            "    /usr/local/lib/python3.11/dist-packages/tensorflow/include/external/com_google_highway/hwy/base.h\n",
            "    /usr/local/lib/python3.11/dist-packages/tensorflow/include/external/com_google_highway/hwy/cache_control.h\n",
            "    /usr/local/lib/python3.11/dist-packages/tensorflow/include/external/com_google_highway/hwy/contrib/algo/copy-inl.h\n",
            "    /usr/local/lib/python3.11/dist-packages/tensorflow/include/external/com_google_highway/hwy/contrib/algo/find-inl.h\n",
            "    /usr/local/lib/python3.11/dist-packages/tensorflow/include/external/com_google_highway/hwy/contrib/algo/transform-inl.h\n",
            "    /usr/local/lib/python3.11/dist-packages/tensorflow/include/external/com_google_highway/hwy/contrib/sort/order.h\n",
            "    /usr/local/lib/python3.11/dist-packages/tensorflow/include/external/com_google_highway/hwy/contrib/sort/shared-inl.h\n",
            "    /usr/local/lib/python3.11/dist-packages/tensorflow/include/external/com_google_highway/hwy/contrib/sort/sorting_networks-inl.h\n",
            "    /usr/local/lib/python3.11/dist-packages/tensorflow/include/external/com_google_highway/hwy/contrib/sort/traits-inl.h\n",
            "    /usr/local/lib/python3.11/dist-packages/tensorflow/include/external/com_google_highway/hwy/contrib/sort/traits128-inl.h\n",
            "    /usr/local/lib/python3.11/dist-packages/tensorflow/include/external/com_google_highway/hwy/contrib/sort/vqsort-inl.h\n",
            "    /usr/local/lib/python3.11/dist-packages/tensorflow/include/external/com_google_highway/hwy/contrib/sort/vqsort.h\n",
            "    /usr/local/lib/python3.11/dist-packages/tensorflow/include/external/com_google_highway/hwy/detect_compiler_arch.h\n",
            "    /usr/local/lib/python3.11/dist-packages/tensorflow/include/external/com_google_highway/hwy/detect_targets.h\n",
            "    /usr/local/lib/python3.11/dist-packages/tensorflow/include/external/com_google_highway/hwy/foreach_target.h\n",
            "    /usr/local/lib/python3.11/dist-packages/tensorflow/include/external/com_google_highway/hwy/highway.h\n",
            "    /usr/local/lib/python3.11/dist-packages/tensorflow/include/external/com_google_highway/hwy/highway_export.h\n",
            "    /usr/local/lib/python3.11/dist-packages/tensorflow/include/external/com_google_highway/hwy/ops/arm_neon-inl.h\n",
            "    /usr/local/lib/python3.11/dist-packages/tensorflow/include/external/com_google_highway/hwy/ops/arm_sve-inl.h\n",
            "    /usr/local/lib/python3.11/dist-packages/tensorflow/include/external/com_google_highway/hwy/ops/emu128-inl.h\n",
            "    /usr/local/lib/python3.11/dist-packages/tensorflow/include/external/com_google_highway/hwy/ops/generic_ops-inl.h\n",
            "    /usr/local/lib/python3.11/dist-packages/tensorflow/include/external/com_google_highway/hwy/ops/scalar-inl.h\n",
            "    /usr/local/lib/python3.11/dist-packages/tensorflow/include/external/com_google_highway/hwy/ops/set_macros-inl.h\n",
            "    /usr/local/lib/python3.11/dist-packages/tensorflow/include/external/com_google_highway/hwy/ops/shared-inl.h\n",
            "    /usr/local/lib/python3.11/dist-packages/tensorflow/include/external/com_google_highway/hwy/ops/tuple-inl.h\n",
            "    /usr/local/lib/python3.11/dist-packages/tensorflow/include/external/com_google_highway/hwy/ops/x86_128-inl.h\n",
            "    /usr/local/lib/python3.11/dist-packages/tensorflow/include/external/com_google_highway/hwy/ops/x86_256-inl.h\n",
            "    /usr/local/lib/python3.11/dist-packages/tensorflow/include/external/com_google_highway/hwy/ops/x86_512-inl.h\n",
            "    /usr/local/lib/python3.11/dist-packages/tensorflow/include/external/com_google_highway/hwy/per_target.cc\n",
            "    /usr/local/lib/python3.11/dist-packages/tensorflow/include/external/com_google_highway/hwy/per_target.h\n",
            "    /usr/local/lib/python3.11/dist-packages/tensorflow/include/external/com_google_highway/hwy/print-inl.h\n",
            "    /usr/local/lib/python3.11/dist-packages/tensorflow/include/external/com_google_highway/hwy/print.h\n",
            "    /usr/local/lib/python3.11/dist-packages/tensorflow/include/external/com_google_highway/hwy/targets.h\n",
            "    /usr/local/lib/python3.11/dist-packages/tensorflow/include/external/local_config_nccl/_virtual_includes/nccl_config/third_party/nccl/nccl_config.h\n",
            "    /usr/local/lib/python3.11/dist-packages/tensorflow/include/external/local_config_nccl/nccl_config.h\n",
            "    /usr/local/lib/python3.11/dist-packages/tensorflow/include/tensorflow/compiler/jit/xla_tpu_device.h\n",
            "    /usr/local/lib/python3.11/dist-packages/tensorflow/include/tensorflow/compiler/xla/service/tpu_computation_placer.h\n",
            "    /usr/local/lib/python3.11/dist-packages/tensorflow/include/tensorflow/compiler/xla/stream_executor/tpu/noncopyable_buffer.h\n",
            "    /usr/local/lib/python3.11/dist-packages/tensorflow/include/tensorflow/compiler/xla/stream_executor/tpu/status_helper.h\n",
            "    /usr/local/lib/python3.11/dist-packages/tensorflow/include/tensorflow/compiler/xla/stream_executor/tpu/tpu_api_dlsym_set_fn.h\n",
            "    /usr/local/lib/python3.11/dist-packages/tensorflow/include/tensorflow/compiler/xla/stream_executor/tpu/tpu_event.h\n",
            "    /usr/local/lib/python3.11/dist-packages/tensorflow/include/tensorflow/compiler/xla/stream_executor/tpu/tpu_executable.h\n",
            "    /usr/local/lib/python3.11/dist-packages/tensorflow/include/tensorflow/compiler/xla/stream_executor/tpu/tpu_executable_interface.h\n",
            "    /usr/local/lib/python3.11/dist-packages/tensorflow/include/tensorflow/compiler/xla/stream_executor/tpu/tpu_executor.h\n",
            "    /usr/local/lib/python3.11/dist-packages/tensorflow/include/tensorflow/compiler/xla/stream_executor/tpu/tpu_executor_init_fns.inc\n",
            "    /usr/local/lib/python3.11/dist-packages/tensorflow/include/tensorflow/compiler/xla/stream_executor/tpu/tpu_executor_interface.h\n",
            "    /usr/local/lib/python3.11/dist-packages/tensorflow/include/tensorflow/compiler/xla/stream_executor/tpu/tpu_initialize_util.h\n",
            "    /usr/local/lib/python3.11/dist-packages/tensorflow/include/tensorflow/compiler/xla/stream_executor/tpu/tpu_library_init_fns.inc\n",
            "    /usr/local/lib/python3.11/dist-packages/tensorflow/include/tensorflow/compiler/xla/stream_executor/tpu/tpu_node_context.h\n",
            "    /usr/local/lib/python3.11/dist-packages/tensorflow/include/tensorflow/compiler/xla/stream_executor/tpu/tpu_op_executable.h\n",
            "    /usr/local/lib/python3.11/dist-packages/tensorflow/include/tensorflow/compiler/xla/stream_executor/tpu/tpu_platform.h\n",
            "    /usr/local/lib/python3.11/dist-packages/tensorflow/include/tensorflow/compiler/xla/stream_executor/tpu/tpu_platform_id.h\n",
            "    /usr/local/lib/python3.11/dist-packages/tensorflow/include/tensorflow/compiler/xla/stream_executor/tpu/tpu_platform_interface.h\n",
            "    /usr/local/lib/python3.11/dist-packages/tensorflow/include/tensorflow/compiler/xla/stream_executor/tpu/tpu_profiler_init_fns.inc\n",
            "    /usr/local/lib/python3.11/dist-packages/tensorflow/include/tensorflow/compiler/xla/stream_executor/tpu/tpu_stream.h\n",
            "    /usr/local/lib/python3.11/dist-packages/tensorflow/include/tensorflow/compiler/xla/stream_executor/tpu/tpu_stream_interface.h\n",
            "    /usr/local/lib/python3.11/dist-packages/tensorflow/include/tensorflow/compiler/xla/stream_executor/tpu/tpu_topology.h\n",
            "    /usr/local/lib/python3.11/dist-packages/tensorflow/include/tensorflow/compiler/xla/stream_executor/tpu/tpu_transfer_manager.h\n",
            "    /usr/local/lib/python3.11/dist-packages/tensorflow/include/tensorflow/compiler/xla/stream_executor/tpu/tpu_transfer_manager_interface.h\n",
            "    /usr/local/lib/python3.11/dist-packages/tensorflow/include/tensorflow/compiler/xla/stream_executor/tpu/tsl_status_helper.h\n",
            "    /usr/local/lib/python3.11/dist-packages/tensorflow/include/tensorflow/core/common_runtime/device_propagation.h\n",
            "    /usr/local/lib/python3.11/dist-packages/tensorflow/include/tensorflow/core/common_runtime/next_pluggable_device/c/outside_compilation_params.h\n",
            "    /usr/local/lib/python3.11/dist-packages/tensorflow/include/tensorflow/core/framework/attr_value.pb_text-impl.h\n",
            "    /usr/local/lib/python3.11/dist-packages/tensorflow/include/tensorflow/core/framework/attr_value.pb_text.h\n",
            "    /usr/local/lib/python3.11/dist-packages/tensorflow/include/tensorflow/core/framework/resource_handle.pb_text-impl.h\n",
            "    /usr/local/lib/python3.11/dist-packages/tensorflow/include/tensorflow/core/framework/resource_handle.pb_text.h\n",
            "    /usr/local/lib/python3.11/dist-packages/tensorflow/include/tensorflow/core/framework/tensor.pb_text-impl.h\n",
            "    /usr/local/lib/python3.11/dist-packages/tensorflow/include/tensorflow/core/framework/tensor.pb_text.h\n",
            "    /usr/local/lib/python3.11/dist-packages/tensorflow/include/tensorflow/core/framework/tensor_shape.pb_text-impl.h\n",
            "    /usr/local/lib/python3.11/dist-packages/tensorflow/include/tensorflow/core/framework/tensor_shape.pb_text.h\n",
            "    /usr/local/lib/python3.11/dist-packages/tensorflow/include/tensorflow/core/framework/types.pb_text-impl.h\n",
            "    /usr/local/lib/python3.11/dist-packages/tensorflow/include/tensorflow/core/framework/types.pb_text.h\n",
            "    /usr/local/lib/python3.11/dist-packages/tensorflow/include/tensorflow/core/protobuf/tpu/compilation_result.pb.h\n",
            "    /usr/local/lib/python3.11/dist-packages/tensorflow/include/tensorflow/core/tpu/graph_rewrite/combine_tpu_embedding_load_retrieve_pass.h\n",
            "    /usr/local/lib/python3.11/dist-packages/tensorflow/include/tensorflow/core/tpu/graph_rewrite/cond_builder.h\n",
            "    /usr/local/lib/python3.11/dist-packages/tensorflow/include/tensorflow/core/tpu/graph_rewrite/configure_tpu_embedding_rewrite_pass.h\n",
            "    /usr/local/lib/python3.11/dist-packages/tensorflow/include/tensorflow/core/tpu/graph_rewrite/distributed_tpu_configuration_rewrite_pass.h\n",
            "    /usr/local/lib/python3.11/dist-packages/tensorflow/include/tensorflow/core/tpu/graph_rewrite/distributed_tpu_rewrite_helpers.h\n",
            "    /usr/local/lib/python3.11/dist-packages/tensorflow/include/tensorflow/core/tpu/graph_rewrite/distributed_tpu_rewrite_pass.h\n",
            "    /usr/local/lib/python3.11/dist-packages/tensorflow/include/tensorflow/core/tpu/graph_rewrite/distributed_tpu_rewrite_pass_internal.h\n",
            "    /usr/local/lib/python3.11/dist-packages/tensorflow/include/tensorflow/core/tpu/graph_rewrite/encapsulate_tpu_computations_pass.h\n",
            "    /usr/local/lib/python3.11/dist-packages/tensorflow/include/tensorflow/core/tpu/graph_rewrite/host_training_loop_optimization_util.h\n",
            "    /usr/local/lib/python3.11/dist-packages/tensorflow/include/tensorflow/core/tpu/graph_rewrite/incomplete_nodedef_builder.h\n",
            "    /usr/local/lib/python3.11/dist-packages/tensorflow/include/tensorflow/core/tpu/graph_rewrite/tpu_embedding_rewrite_pass_utils.h\n",
            "    /usr/local/lib/python3.11/dist-packages/tensorflow/include/tensorflow/core/tpu/graph_rewrite/tpu_embedding_software_deduplication_rewrite_pass.h\n",
            "    /usr/local/lib/python3.11/dist-packages/tensorflow/include/tensorflow/core/tpu/graph_rewrite/update_tpu_embedding_ops_passes.h\n",
            "    /usr/local/lib/python3.11/dist-packages/tensorflow/include/tensorflow/core/tpu/graph_rewrite/variable_merger_pass.h\n",
            "    /usr/local/lib/python3.11/dist-packages/tensorflow/include/tensorflow/core/tpu/kernels/compiled_subgraph.h\n",
            "    /usr/local/lib/python3.11/dist-packages/tensorflow/include/tensorflow/core/tpu/kernels/infeed_ops.h\n",
            "    /usr/local/lib/python3.11/dist-packages/tensorflow/include/tensorflow/core/tpu/kernels/outfeed_ops.h\n",
            "    /usr/local/lib/python3.11/dist-packages/tensorflow/include/tensorflow/core/tpu/kernels/sharding_utils.h\n",
            "    /usr/local/lib/python3.11/dist-packages/tensorflow/include/tensorflow/core/tpu/kernels/sparse_core_ops_stats_handler.h\n",
            "    /usr/local/lib/python3.11/dist-packages/tensorflow/include/tensorflow/core/tpu/kernels/sparse_core_ops_utils.h\n",
            "    /usr/local/lib/python3.11/dist-packages/tensorflow/include/tensorflow/core/tpu/kernels/sparse_core_preprocess_ops.h\n",
            "    /usr/local/lib/python3.11/dist-packages/tensorflow/include/tensorflow/core/tpu/kernels/sparse_core_xla_ops.h\n",
            "    /usr/local/lib/python3.11/dist-packages/tensorflow/include/tensorflow/core/tpu/kernels/tpu_compilation_cache.pb.h\n",
            "    /usr/local/lib/python3.11/dist-packages/tensorflow/include/tensorflow/core/tpu/kernels/tpu_compilation_cache_common.pb.h\n",
            "    /usr/local/lib/python3.11/dist-packages/tensorflow/include/tensorflow/core/tpu/kernels/tpu_compilation_cache_entry.h\n",
            "    /usr/local/lib/python3.11/dist-packages/tensorflow/include/tensorflow/core/tpu/kernels/tpu_compilation_cache_entry_unloader.h\n",
            "    /usr/local/lib/python3.11/dist-packages/tensorflow/include/tensorflow/core/tpu/kernels/tpu_compilation_cache_external.h\n",
            "    /usr/local/lib/python3.11/dist-packages/tensorflow/include/tensorflow/core/tpu/kernels/tpu_compilation_cache_factory.h\n",
            "    /usr/local/lib/python3.11/dist-packages/tensorflow/include/tensorflow/core/tpu/kernels/tpu_compilation_cache_grpc.h\n",
            "    /usr/local/lib/python3.11/dist-packages/tensorflow/include/tensorflow/core/tpu/kernels/tpu_compilation_cache_interface.h\n",
            "    /usr/local/lib/python3.11/dist-packages/tensorflow/include/tensorflow/core/tpu/kernels/tpu_compilation_cache_key.h\n",
            "    /usr/local/lib/python3.11/dist-packages/tensorflow/include/tensorflow/core/tpu/kernels/tpu_compilation_cache_local_lookup.h\n",
            "    /usr/local/lib/python3.11/dist-packages/tensorflow/include/tensorflow/core/tpu/kernels/tpu_compilation_cache_lookup.h\n",
            "    /usr/local/lib/python3.11/dist-packages/tensorflow/include/tensorflow/core/tpu/kernels/tpu_compilation_cache_rpc_lookup.h\n",
            "    /usr/local/lib/python3.11/dist-packages/tensorflow/include/tensorflow/core/tpu/kernels/tpu_compilation_cache_rpc_support.h\n",
            "    /usr/local/lib/python3.11/dist-packages/tensorflow/include/tensorflow/core/tpu/kernels/tpu_compilation_cache_service.h\n",
            "    /usr/local/lib/python3.11/dist-packages/tensorflow/include/tensorflow/core/tpu/kernels/tpu_compilation_metrics.h\n",
            "    /usr/local/lib/python3.11/dist-packages/tensorflow/include/tensorflow/core/tpu/kernels/tpu_compile.pb.h\n",
            "    /usr/local/lib/python3.11/dist-packages/tensorflow/include/tensorflow/core/tpu/kernels/tpu_compile_op.h\n",
            "    /usr/local/lib/python3.11/dist-packages/tensorflow/include/tensorflow/core/tpu/kernels/tpu_compile_op_common.h\n",
            "    /usr/local/lib/python3.11/dist-packages/tensorflow/include/tensorflow/core/tpu/kernels/tpu_compile_op_impl.h\n",
            "    /usr/local/lib/python3.11/dist-packages/tensorflow/include/tensorflow/core/tpu/kernels/tpu_compile_op_options.h\n",
            "    /usr/local/lib/python3.11/dist-packages/tensorflow/include/tensorflow/core/tpu/kernels/tpu_compile_op_support.h\n",
            "    /usr/local/lib/python3.11/dist-packages/tensorflow/include/tensorflow/core/tpu/kernels/tpu_configuration_ops.h\n",
            "    /usr/local/lib/python3.11/dist-packages/tensorflow/include/tensorflow/core/tpu/kernels/tpu_embedding_engine_state_interface.h\n",
            "    /usr/local/lib/python3.11/dist-packages/tensorflow/include/tensorflow/core/tpu/kernels/tpu_embedding_enqueue_ops.h\n",
            "    /usr/local/lib/python3.11/dist-packages/tensorflow/include/tensorflow/core/tpu/kernels/tpu_embedding_load_retrieve_ops.h\n",
            "    /usr/local/lib/python3.11/dist-packages/tensorflow/include/tensorflow/core/tpu/kernels/tpu_executable_info.pb.h\n",
            "    /usr/local/lib/python3.11/dist-packages/tensorflow/include/tensorflow/core/tpu/kernels/tpu_execute_op.h\n",
            "    /usr/local/lib/python3.11/dist-packages/tensorflow/include/tensorflow/core/tpu/kernels/tpu_execute_op_options.h\n",
            "    /usr/local/lib/python3.11/dist-packages/tensorflow/include/tensorflow/core/tpu/kernels/tpu_fingerprint_lookup.h\n",
            "    /usr/local/lib/python3.11/dist-packages/tensorflow/include/tensorflow/core/tpu/kernels/tpu_functional_ops.h\n",
            "    /usr/local/lib/python3.11/dist-packages/tensorflow/include/tensorflow/core/tpu/kernels/tpu_mesh_state_interface.h\n",
            "    /usr/local/lib/python3.11/dist-packages/tensorflow/include/tensorflow/core/tpu/kernels/tpu_op_consts.h\n",
            "    /usr/local/lib/python3.11/dist-packages/tensorflow/include/tensorflow/core/tpu/kernels/tpu_op_util.h\n",
            "    /usr/local/lib/python3.11/dist-packages/tensorflow/include/tensorflow/core/tpu/kernels/tpu_ordinal_selector.h\n",
            "    /usr/local/lib/python3.11/dist-packages/tensorflow/include/tensorflow/core/tpu/kernels/tpu_ordinal_selector_interface.h\n",
            "    /usr/local/lib/python3.11/dist-packages/tensorflow/include/tensorflow/core/tpu/kernels/tpu_pod_state.h\n",
            "    /usr/local/lib/python3.11/dist-packages/tensorflow/include/tensorflow/core/tpu/kernels/tpu_program_group.h\n",
            "    /usr/local/lib/python3.11/dist-packages/tensorflow/include/tensorflow/core/tpu/kernels/tpu_program_group_interface.h\n",
            "    /usr/local/lib/python3.11/dist-packages/tensorflow/include/tensorflow/core/tpu/kernels/tpu_reshard_variables_op.h\n",
            "    /usr/local/lib/python3.11/dist-packages/tensorflow/include/tensorflow/core/tpu/kernels/tpu_reshard_variables_op_util.h\n",
            "    /usr/local/lib/python3.11/dist-packages/tensorflow/include/tensorflow/core/tpu/kernels/tpu_util.h\n",
            "    /usr/local/lib/python3.11/dist-packages/tensorflow/include/tensorflow/core/tpu/kernels/trace_util.h\n",
            "    /usr/local/lib/python3.11/dist-packages/tensorflow/include/tensorflow/core/tpu/kernels/transfer_ops.h\n",
            "    /usr/local/lib/python3.11/dist-packages/tensorflow/include/tensorflow/core/tpu/tpu_compile_interface.h\n",
            "    /usr/local/lib/python3.11/dist-packages/tensorflow/include/tensorflow/core/tpu/tpu_configuration.h\n",
            "    /usr/local/lib/python3.11/dist-packages/tensorflow/include/tensorflow/core/tpu/tpu_embedding_configuration_proto_rewrite.h\n",
            "    /usr/local/lib/python3.11/dist-packages/tensorflow/include/tensorflow/core/tpu/tpu_embedding_configuration_utils.h\n",
            "    /usr/local/lib/python3.11/dist-packages/tensorflow/include/tensorflow/core/tpu/tpu_embedding_spmd_sharding_utils.h\n",
            "    /usr/local/lib/python3.11/dist-packages/tensorflow/include/tensorflow/core/tpu/tpu_execute.h\n",
            "    /usr/local/lib/python3.11/dist-packages/tensorflow/include/tensorflow/core/tpu/tpu_fingerprint_utils.h\n",
            "    /usr/local/lib/python3.11/dist-packages/tensorflow/include/tensorflow/core/tpu/tpu_init_mode.h\n",
            "    /usr/local/lib/python3.11/dist-packages/tensorflow/include/tensorflow/core/tpu/tpu_node_device_util.h\n",
            "    /usr/local/lib/python3.11/dist-packages/tensorflow/include/tensorflow/core/tpu/virtual_device.h\n",
            "    /usr/local/lib/python3.11/dist-packages/tensorflow/include/tensorflow/dtensor/cc/dstatus.h\n",
            "    /usr/local/lib/python3.11/dist-packages/tensorflow/include/tensorflow/dtensor/cc/tpu_system_interface.h\n",
            "    /usr/local/lib/python3.11/dist-packages/tensorflow/include/xla/service/tpu_computation_placer.h\n",
            "    /usr/local/lib/python3.11/dist-packages/tensorflow/include/xla/stream_executor/tpu/noncopyable_buffer.h\n",
            "    /usr/local/lib/python3.11/dist-packages/tensorflow/include/xla/stream_executor/tpu/status_helper.h\n",
            "    /usr/local/lib/python3.11/dist-packages/tensorflow/include/xla/stream_executor/tpu/tpu_api_dlsym_set_fn.h\n",
            "    /usr/local/lib/python3.11/dist-packages/tensorflow/include/xla/stream_executor/tpu/tpu_event.h\n",
            "    /usr/local/lib/python3.11/dist-packages/tensorflow/include/xla/stream_executor/tpu/tpu_executable.h\n",
            "    /usr/local/lib/python3.11/dist-packages/tensorflow/include/xla/stream_executor/tpu/tpu_executable_interface.h\n",
            "    /usr/local/lib/python3.11/dist-packages/tensorflow/include/xla/stream_executor/tpu/tpu_executor.h\n",
            "    /usr/local/lib/python3.11/dist-packages/tensorflow/include/xla/stream_executor/tpu/tpu_executor_init_fns.inc\n",
            "    /usr/local/lib/python3.11/dist-packages/tensorflow/include/xla/stream_executor/tpu/tpu_executor_interface.h\n",
            "    /usr/local/lib/python3.11/dist-packages/tensorflow/include/xla/stream_executor/tpu/tpu_initialize_util.h\n",
            "    /usr/local/lib/python3.11/dist-packages/tensorflow/include/xla/stream_executor/tpu/tpu_library_init_fns.inc\n",
            "    /usr/local/lib/python3.11/dist-packages/tensorflow/include/xla/stream_executor/tpu/tpu_node_context.h\n",
            "    /usr/local/lib/python3.11/dist-packages/tensorflow/include/xla/stream_executor/tpu/tpu_op_executable.h\n",
            "    /usr/local/lib/python3.11/dist-packages/tensorflow/include/xla/stream_executor/tpu/tpu_platform.h\n",
            "    /usr/local/lib/python3.11/dist-packages/tensorflow/include/xla/stream_executor/tpu/tpu_platform_id.h\n",
            "    /usr/local/lib/python3.11/dist-packages/tensorflow/include/xla/stream_executor/tpu/tpu_platform_interface.h\n",
            "    /usr/local/lib/python3.11/dist-packages/tensorflow/include/xla/stream_executor/tpu/tpu_profiler_init_fns.inc\n",
            "    /usr/local/lib/python3.11/dist-packages/tensorflow/include/xla/stream_executor/tpu/tpu_stream.h\n",
            "    /usr/local/lib/python3.11/dist-packages/tensorflow/include/xla/stream_executor/tpu/tpu_stream_interface.h\n",
            "    /usr/local/lib/python3.11/dist-packages/tensorflow/include/xla/stream_executor/tpu/tpu_topology.h\n",
            "    /usr/local/lib/python3.11/dist-packages/tensorflow/include/xla/stream_executor/tpu/tpu_transfer_manager.h\n",
            "    /usr/local/lib/python3.11/dist-packages/tensorflow/include/xla/stream_executor/tpu/tpu_transfer_manager_interface.h\n",
            "    /usr/local/lib/python3.11/dist-packages/tensorflow/include/xla/stream_executor/tpu/tsl_status_helper.h\n",
            "    /usr/local/lib/python3.11/dist-packages/tensorflow/python/framework/is_mlir_bridge_test_true.py\n",
            "    /usr/local/lib/python3.11/dist-packages/tensorflow/python/tools/grpc_tpu_worker.py\n",
            "    /usr/local/lib/python3.11/dist-packages/tensorflow/python/tools/grpc_tpu_worker_service.py\n",
            "Proceed (Y/n)? y\n",
            "  Successfully uninstalled tensorflow-2.18.0\n"
          ]
        }
      ]
    },
    {
      "cell_type": "code",
      "source": [
        "pip install tensorflow"
      ],
      "metadata": {
        "colab": {
          "base_uri": "https://localhost:8080/",
          "height": 879
        },
        "id": "x4WRxkXCkLSj",
        "outputId": "b2b55a24-8792-4396-fa85-4849b345b12f"
      },
      "execution_count": 8,
      "outputs": [
        {
          "output_type": "stream",
          "name": "stdout",
          "text": [
            "Collecting tensorflow\n",
            "  Downloading tensorflow-2.18.0-cp311-cp311-manylinux_2_17_x86_64.manylinux2014_x86_64.whl.metadata (4.1 kB)\n",
            "Requirement already satisfied: absl-py>=1.0.0 in /usr/local/lib/python3.11/dist-packages (from tensorflow) (1.4.0)\n",
            "Requirement already satisfied: astunparse>=1.6.0 in /usr/local/lib/python3.11/dist-packages (from tensorflow) (1.6.3)\n",
            "Requirement already satisfied: flatbuffers>=24.3.25 in /usr/local/lib/python3.11/dist-packages (from tensorflow) (25.2.10)\n",
            "Requirement already satisfied: gast!=0.5.0,!=0.5.1,!=0.5.2,>=0.2.1 in /usr/local/lib/python3.11/dist-packages (from tensorflow) (0.6.0)\n",
            "Requirement already satisfied: google-pasta>=0.1.1 in /usr/local/lib/python3.11/dist-packages (from tensorflow) (0.2.0)\n",
            "Requirement already satisfied: libclang>=13.0.0 in /usr/local/lib/python3.11/dist-packages (from tensorflow) (18.1.1)\n",
            "Requirement already satisfied: opt-einsum>=2.3.2 in /usr/local/lib/python3.11/dist-packages (from tensorflow) (3.4.0)\n",
            "Requirement already satisfied: packaging in /usr/local/lib/python3.11/dist-packages (from tensorflow) (24.2)\n",
            "Requirement already satisfied: protobuf!=4.21.0,!=4.21.1,!=4.21.2,!=4.21.3,!=4.21.4,!=4.21.5,<6.0.0dev,>=3.20.3 in /usr/local/lib/python3.11/dist-packages (from tensorflow) (5.29.3)\n",
            "Requirement already satisfied: requests<3,>=2.21.0 in /usr/local/lib/python3.11/dist-packages (from tensorflow) (2.32.3)\n",
            "Requirement already satisfied: setuptools in /usr/local/lib/python3.11/dist-packages (from tensorflow) (75.1.0)\n",
            "Requirement already satisfied: six>=1.12.0 in /usr/local/lib/python3.11/dist-packages (from tensorflow) (1.17.0)\n",
            "Requirement already satisfied: termcolor>=1.1.0 in /usr/local/lib/python3.11/dist-packages (from tensorflow) (2.5.0)\n",
            "Requirement already satisfied: typing-extensions>=3.6.6 in /usr/local/lib/python3.11/dist-packages (from tensorflow) (4.12.2)\n",
            "Requirement already satisfied: wrapt>=1.11.0 in /usr/local/lib/python3.11/dist-packages (from tensorflow) (1.17.2)\n",
            "Requirement already satisfied: grpcio<2.0,>=1.24.3 in /usr/local/lib/python3.11/dist-packages (from tensorflow) (1.70.0)\n",
            "Requirement already satisfied: tensorboard<2.19,>=2.18 in /usr/local/lib/python3.11/dist-packages (from tensorflow) (2.18.0)\n",
            "Requirement already satisfied: keras>=3.5.0 in /usr/local/lib/python3.11/dist-packages (from tensorflow) (3.8.0)\n",
            "Requirement already satisfied: numpy<2.1.0,>=1.26.0 in /usr/local/lib/python3.11/dist-packages (from tensorflow) (1.26.4)\n",
            "Requirement already satisfied: h5py>=3.11.0 in /usr/local/lib/python3.11/dist-packages (from tensorflow) (3.13.0)\n",
            "Requirement already satisfied: ml-dtypes<0.5.0,>=0.4.0 in /usr/local/lib/python3.11/dist-packages (from tensorflow) (0.4.1)\n",
            "Requirement already satisfied: tensorflow-io-gcs-filesystem>=0.23.1 in /usr/local/lib/python3.11/dist-packages (from tensorflow) (0.37.1)\n",
            "Requirement already satisfied: wheel<1.0,>=0.23.0 in /usr/local/lib/python3.11/dist-packages (from astunparse>=1.6.0->tensorflow) (0.45.1)\n",
            "Requirement already satisfied: rich in /usr/local/lib/python3.11/dist-packages (from keras>=3.5.0->tensorflow) (13.9.4)\n",
            "Requirement already satisfied: namex in /usr/local/lib/python3.11/dist-packages (from keras>=3.5.0->tensorflow) (0.0.8)\n",
            "Requirement already satisfied: optree in /usr/local/lib/python3.11/dist-packages (from keras>=3.5.0->tensorflow) (0.14.0)\n",
            "Requirement already satisfied: charset-normalizer<4,>=2 in /usr/local/lib/python3.11/dist-packages (from requests<3,>=2.21.0->tensorflow) (3.4.1)\n",
            "Requirement already satisfied: idna<4,>=2.5 in /usr/local/lib/python3.11/dist-packages (from requests<3,>=2.21.0->tensorflow) (3.10)\n",
            "Requirement already satisfied: urllib3<3,>=1.21.1 in /usr/local/lib/python3.11/dist-packages (from requests<3,>=2.21.0->tensorflow) (2.3.0)\n",
            "Requirement already satisfied: certifi>=2017.4.17 in /usr/local/lib/python3.11/dist-packages (from requests<3,>=2.21.0->tensorflow) (2025.1.31)\n",
            "Requirement already satisfied: markdown>=2.6.8 in /usr/local/lib/python3.11/dist-packages (from tensorboard<2.19,>=2.18->tensorflow) (3.7)\n",
            "Requirement already satisfied: tensorboard-data-server<0.8.0,>=0.7.0 in /usr/local/lib/python3.11/dist-packages (from tensorboard<2.19,>=2.18->tensorflow) (0.7.2)\n",
            "Requirement already satisfied: werkzeug>=1.0.1 in /usr/local/lib/python3.11/dist-packages (from tensorboard<2.19,>=2.18->tensorflow) (3.1.3)\n",
            "Requirement already satisfied: MarkupSafe>=2.1.1 in /usr/local/lib/python3.11/dist-packages (from werkzeug>=1.0.1->tensorboard<2.19,>=2.18->tensorflow) (3.0.2)\n",
            "Requirement already satisfied: markdown-it-py>=2.2.0 in /usr/local/lib/python3.11/dist-packages (from rich->keras>=3.5.0->tensorflow) (3.0.0)\n",
            "Requirement already satisfied: pygments<3.0.0,>=2.13.0 in /usr/local/lib/python3.11/dist-packages (from rich->keras>=3.5.0->tensorflow) (2.19.1)\n",
            "Requirement already satisfied: mdurl~=0.1 in /usr/local/lib/python3.11/dist-packages (from markdown-it-py>=2.2.0->rich->keras>=3.5.0->tensorflow) (0.1.2)\n",
            "Downloading tensorflow-2.18.0-cp311-cp311-manylinux_2_17_x86_64.manylinux2014_x86_64.whl (615.4 MB)\n",
            "\u001b[2K   \u001b[90m━━━━━━━━━━━━━━━━━━━━━━━━━━━━━━━━━━━━━━━━\u001b[0m \u001b[32m615.4/615.4 MB\u001b[0m \u001b[31m1.7 MB/s\u001b[0m eta \u001b[36m0:00:00\u001b[0m\n",
            "\u001b[?25hInstalling collected packages: tensorflow\n",
            "Successfully installed tensorflow-2.18.0\n"
          ]
        },
        {
          "output_type": "display_data",
          "data": {
            "application/vnd.colab-display-data+json": {
              "pip_warning": {
                "packages": [
                  "tensorflow"
                ]
              },
              "id": "366d3dc43f8048a189aaab0f5f345d8e"
            }
          },
          "metadata": {}
        }
      ]
    },
    {
      "cell_type": "code",
      "source": [
        "!pip install gdown  # If not installed\n",
        "\n",
        "## vgg16\n",
        "!gdown --id 1DXY3Ivz-QeeiaXrfgyaJTPnokqlznetA -O vgg16_model.h5\n",
        "# https://drive.google.com/file/d/1DXY3Ivz-QeeiaXrfgyaJTPnokqlznetA/view?usp=sharing\n",
        "\n",
        "## inception\n",
        "!gdown --id 1AlkIThP1sk6RVireJqhcQMNNWp5vQVOs -O inception_model.h5\n",
        "# https://drive.google.com/file/d/1AlkIThP1sk6RVireJqhcQMNNWp5vQVOs/view?usp=sharing\n",
        "\n",
        "## densenet\n",
        "!gdown --id 1qj92KOG9wKwbmtPl5bhOFrzliVySAOPc -O densenet_model.h5\n",
        "# https://drive.google.com/file/d/1qj92KOG9wKwbmtPl5bhOFrzliVySAOPc/view?usp=sharing\n",
        "\n",
        "## bagging model\n",
        "!gdown --id 16y-fJ-O4fTAsrLT-vCGQ0pp59pA-QmFS -O potato_bagging_model.h5\n",
        "# https://drive.google.com/file/d/16y-fJ-O4fTAsrLT-vCGQ0pp59pA-QmFS/view?usp=sharing\n",
        "\n",
        "## dataset\n",
        "!gdown --id 1kt1WIiNNSQnWAiQEURhbdXHRYxlo3kP6 -O potato_dataset.npz\n",
        "# https://drive.google.com/file/d/1kt1WIiNNSQnWAiQEURhbdXHRYxlo3kP6/view?usp=sharing"
      ],
      "metadata": {
        "colab": {
          "base_uri": "https://localhost:8080/"
        },
        "id": "UuHlsNCzPzkQ",
        "outputId": "651dac2f-5733-46e6-cc21-b4b3e7b2d5be"
      },
      "execution_count": 2,
      "outputs": [
        {
          "output_type": "stream",
          "name": "stdout",
          "text": [
            "Requirement already satisfied: gdown in /usr/local/lib/python3.11/dist-packages (5.2.0)\n",
            "Requirement already satisfied: beautifulsoup4 in /usr/local/lib/python3.11/dist-packages (from gdown) (4.13.3)\n",
            "Requirement already satisfied: filelock in /usr/local/lib/python3.11/dist-packages (from gdown) (3.17.0)\n",
            "Requirement already satisfied: requests[socks] in /usr/local/lib/python3.11/dist-packages (from gdown) (2.32.3)\n",
            "Requirement already satisfied: tqdm in /usr/local/lib/python3.11/dist-packages (from gdown) (4.67.1)\n",
            "Requirement already satisfied: soupsieve>1.2 in /usr/local/lib/python3.11/dist-packages (from beautifulsoup4->gdown) (2.6)\n",
            "Requirement already satisfied: typing-extensions>=4.0.0 in /usr/local/lib/python3.11/dist-packages (from beautifulsoup4->gdown) (4.12.2)\n",
            "Requirement already satisfied: charset-normalizer<4,>=2 in /usr/local/lib/python3.11/dist-packages (from requests[socks]->gdown) (3.4.1)\n",
            "Requirement already satisfied: idna<4,>=2.5 in /usr/local/lib/python3.11/dist-packages (from requests[socks]->gdown) (3.10)\n",
            "Requirement already satisfied: urllib3<3,>=1.21.1 in /usr/local/lib/python3.11/dist-packages (from requests[socks]->gdown) (2.3.0)\n",
            "Requirement already satisfied: certifi>=2017.4.17 in /usr/local/lib/python3.11/dist-packages (from requests[socks]->gdown) (2025.1.31)\n",
            "Requirement already satisfied: PySocks!=1.5.7,>=1.5.6 in /usr/local/lib/python3.11/dist-packages (from requests[socks]->gdown) (1.7.1)\n",
            "/usr/local/lib/python3.11/dist-packages/gdown/__main__.py:140: FutureWarning: Option `--id` was deprecated in version 4.3.1 and will be removed in 5.0. You don't need to pass it anymore to use a file ID.\n",
            "  warnings.warn(\n",
            "Downloading...\n",
            "From (original): https://drive.google.com/uc?id=1DXY3Ivz-QeeiaXrfgyaJTPnokqlznetA\n",
            "From (redirected): https://drive.google.com/uc?id=1DXY3Ivz-QeeiaXrfgyaJTPnokqlznetA&confirm=t&uuid=8d20928c-a564-478a-9bbc-7d5a54db8da1\n",
            "To: /content/vgg16_model.h5\n",
            "100% 121M/121M [00:01<00:00, 70.6MB/s]\n",
            "/usr/local/lib/python3.11/dist-packages/gdown/__main__.py:140: FutureWarning: Option `--id` was deprecated in version 4.3.1 and will be removed in 5.0. You don't need to pass it anymore to use a file ID.\n",
            "  warnings.warn(\n",
            "Downloading...\n",
            "From (original): https://drive.google.com/uc?id=1AlkIThP1sk6RVireJqhcQMNNWp5vQVOs\n",
            "From (redirected): https://drive.google.com/uc?id=1AlkIThP1sk6RVireJqhcQMNNWp5vQVOs&confirm=t&uuid=e83f2afd-72be-4bde-980f-8c60ff73d890\n",
            "To: /content/inception_model.h5\n",
            "100% 262M/262M [00:02<00:00, 121MB/s]\n",
            "/usr/local/lib/python3.11/dist-packages/gdown/__main__.py:140: FutureWarning: Option `--id` was deprecated in version 4.3.1 and will be removed in 5.0. You don't need to pass it anymore to use a file ID.\n",
            "  warnings.warn(\n",
            "Downloading...\n",
            "From: https://drive.google.com/uc?id=1qj92KOG9wKwbmtPl5bhOFrzliVySAOPc\n",
            "To: /content/densenet_model.h5\n",
            "100% 85.1M/85.1M [00:00<00:00, 98.1MB/s]\n",
            "/usr/local/lib/python3.11/dist-packages/gdown/__main__.py:140: FutureWarning: Option `--id` was deprecated in version 4.3.1 and will be removed in 5.0. You don't need to pass it anymore to use a file ID.\n",
            "  warnings.warn(\n",
            "Downloading...\n",
            "From (original): https://drive.google.com/uc?id=16y-fJ-O4fTAsrLT-vCGQ0pp59pA-QmFS\n",
            "From (redirected): https://drive.google.com/uc?id=16y-fJ-O4fTAsrLT-vCGQ0pp59pA-QmFS&confirm=t&uuid=6bbb7ae1-b48e-4809-a967-fdde39503e14\n",
            "To: /content/potato_bagging_model.h5\n",
            "100% 178M/178M [00:01<00:00, 105MB/s]\n",
            "/usr/local/lib/python3.11/dist-packages/gdown/__main__.py:140: FutureWarning: Option `--id` was deprecated in version 4.3.1 and will be removed in 5.0. You don't need to pass it anymore to use a file ID.\n",
            "  warnings.warn(\n",
            "Downloading...\n",
            "From (original): https://drive.google.com/uc?id=1kt1WIiNNSQnWAiQEURhbdXHRYxlo3kP6\n",
            "From (redirected): https://drive.google.com/uc?id=1kt1WIiNNSQnWAiQEURhbdXHRYxlo3kP6&confirm=t&uuid=5fe0bb2f-f544-48e5-b239-238c20cda76f\n",
            "To: /content/potato_dataset.npz\n",
            "100% 508M/508M [00:02<00:00, 191MB/s]\n"
          ]
        }
      ]
    },
    {
      "cell_type": "code",
      "execution_count": 1,
      "metadata": {
        "colab": {
          "base_uri": "https://localhost:8080/",
          "height": 1000
        },
        "id": "3TsIPQRpPLf8",
        "outputId": "b9c63e87-e347-4c34-ca08-3ff953e16f6f"
      },
      "outputs": [
        {
          "output_type": "stream",
          "name": "stderr",
          "text": [
            "WARNING:absl:Compiled the loaded model, but the compiled metrics have yet to be built. `model.compile_metrics` will be empty until you train or evaluate the model.\n",
            "WARNING:absl:Compiled the loaded model, but the compiled metrics have yet to be built. `model.compile_metrics` will be empty until you train or evaluate the model.\n",
            "WARNING:absl:Compiled the loaded model, but the compiled metrics have yet to be built. `model.compile_metrics` will be empty until you train or evaluate the model.\n",
            "WARNING:absl:Compiled the loaded model, but the compiled metrics have yet to be built. `model.compile_metrics` will be empty until you train or evaluate the model.\n"
          ]
        },
        {
          "output_type": "display_data",
          "data": {
            "text/plain": [
              "\u001b[1mModel: \"VGG16\"\u001b[0m\n"
            ],
            "text/html": [
              "<pre style=\"white-space:pre;overflow-x:auto;line-height:normal;font-family:Menlo,'DejaVu Sans Mono',consolas,'Courier New',monospace\"><span style=\"font-weight: bold\">Model: \"VGG16\"</span>\n",
              "</pre>\n"
            ]
          },
          "metadata": {}
        },
        {
          "output_type": "display_data",
          "data": {
            "text/plain": [
              "┏━━━━━━━━━━━━━━━━━━━━━━━━━━━━━━━━━━━━━━┳━━━━━━━━━━━━━━━━━━━━━━━━━━━━━┳━━━━━━━━━━━━━━━━━┓\n",
              "┃\u001b[1m \u001b[0m\u001b[1mLayer (type)                        \u001b[0m\u001b[1m \u001b[0m┃\u001b[1m \u001b[0m\u001b[1mOutput Shape               \u001b[0m\u001b[1m \u001b[0m┃\u001b[1m \u001b[0m\u001b[1m        Param #\u001b[0m\u001b[1m \u001b[0m┃\n",
              "┡━━━━━━━━━━━━━━━━━━━━━━━━━━━━━━━━━━━━━━╇━━━━━━━━━━━━━━━━━━━━━━━━━━━━━╇━━━━━━━━━━━━━━━━━┩\n",
              "│ input_layer_3 (\u001b[38;5;33mInputLayer\u001b[0m)           │ (\u001b[38;5;45mNone\u001b[0m, \u001b[38;5;34m256\u001b[0m, \u001b[38;5;34m256\u001b[0m, \u001b[38;5;34m3\u001b[0m)         │               \u001b[38;5;34m0\u001b[0m │\n",
              "├──────────────────────────────────────┼─────────────────────────────┼─────────────────┤\n",
              "│ vgg16 (\u001b[38;5;33mFunctional\u001b[0m)                   │ (\u001b[38;5;45mNone\u001b[0m, \u001b[38;5;34m8\u001b[0m, \u001b[38;5;34m8\u001b[0m, \u001b[38;5;34m512\u001b[0m)           │      \u001b[38;5;34m14,714,688\u001b[0m │\n",
              "├──────────────────────────────────────┼─────────────────────────────┼─────────────────┤\n",
              "│ global_average_pooling2d             │ (\u001b[38;5;45mNone\u001b[0m, \u001b[38;5;34m512\u001b[0m)                 │               \u001b[38;5;34m0\u001b[0m │\n",
              "│ (\u001b[38;5;33mGlobalAveragePooling2D\u001b[0m)             │                             │                 │\n",
              "├──────────────────────────────────────┼─────────────────────────────┼─────────────────┤\n",
              "│ dense (\u001b[38;5;33mDense\u001b[0m)                        │ (\u001b[38;5;45mNone\u001b[0m, \u001b[38;5;34m128\u001b[0m)                 │          \u001b[38;5;34m65,664\u001b[0m │\n",
              "├──────────────────────────────────────┼─────────────────────────────┼─────────────────┤\n",
              "│ dropout (\u001b[38;5;33mDropout\u001b[0m)                    │ (\u001b[38;5;45mNone\u001b[0m, \u001b[38;5;34m128\u001b[0m)                 │               \u001b[38;5;34m0\u001b[0m │\n",
              "├──────────────────────────────────────┼─────────────────────────────┼─────────────────┤\n",
              "│ dense_1 (\u001b[38;5;33mDense\u001b[0m)                      │ (\u001b[38;5;45mNone\u001b[0m, \u001b[38;5;34m64\u001b[0m)                  │           \u001b[38;5;34m8,256\u001b[0m │\n",
              "├──────────────────────────────────────┼─────────────────────────────┼─────────────────┤\n",
              "│ dropout_1 (\u001b[38;5;33mDropout\u001b[0m)                  │ (\u001b[38;5;45mNone\u001b[0m, \u001b[38;5;34m64\u001b[0m)                  │               \u001b[38;5;34m0\u001b[0m │\n",
              "├──────────────────────────────────────┼─────────────────────────────┼─────────────────┤\n",
              "│ dense_2 (\u001b[38;5;33mDense\u001b[0m)                      │ (\u001b[38;5;45mNone\u001b[0m, \u001b[38;5;34m3\u001b[0m)                   │             \u001b[38;5;34m195\u001b[0m │\n",
              "└──────────────────────────────────────┴─────────────────────────────┴─────────────────┘\n"
            ],
            "text/html": [
              "<pre style=\"white-space:pre;overflow-x:auto;line-height:normal;font-family:Menlo,'DejaVu Sans Mono',consolas,'Courier New',monospace\">┏━━━━━━━━━━━━━━━━━━━━━━━━━━━━━━━━━━━━━━┳━━━━━━━━━━━━━━━━━━━━━━━━━━━━━┳━━━━━━━━━━━━━━━━━┓\n",
              "┃<span style=\"font-weight: bold\"> Layer (type)                         </span>┃<span style=\"font-weight: bold\"> Output Shape                </span>┃<span style=\"font-weight: bold\">         Param # </span>┃\n",
              "┡━━━━━━━━━━━━━━━━━━━━━━━━━━━━━━━━━━━━━━╇━━━━━━━━━━━━━━━━━━━━━━━━━━━━━╇━━━━━━━━━━━━━━━━━┩\n",
              "│ input_layer_3 (<span style=\"color: #0087ff; text-decoration-color: #0087ff\">InputLayer</span>)           │ (<span style=\"color: #00d7ff; text-decoration-color: #00d7ff\">None</span>, <span style=\"color: #00af00; text-decoration-color: #00af00\">256</span>, <span style=\"color: #00af00; text-decoration-color: #00af00\">256</span>, <span style=\"color: #00af00; text-decoration-color: #00af00\">3</span>)         │               <span style=\"color: #00af00; text-decoration-color: #00af00\">0</span> │\n",
              "├──────────────────────────────────────┼─────────────────────────────┼─────────────────┤\n",
              "│ vgg16 (<span style=\"color: #0087ff; text-decoration-color: #0087ff\">Functional</span>)                   │ (<span style=\"color: #00d7ff; text-decoration-color: #00d7ff\">None</span>, <span style=\"color: #00af00; text-decoration-color: #00af00\">8</span>, <span style=\"color: #00af00; text-decoration-color: #00af00\">8</span>, <span style=\"color: #00af00; text-decoration-color: #00af00\">512</span>)           │      <span style=\"color: #00af00; text-decoration-color: #00af00\">14,714,688</span> │\n",
              "├──────────────────────────────────────┼─────────────────────────────┼─────────────────┤\n",
              "│ global_average_pooling2d             │ (<span style=\"color: #00d7ff; text-decoration-color: #00d7ff\">None</span>, <span style=\"color: #00af00; text-decoration-color: #00af00\">512</span>)                 │               <span style=\"color: #00af00; text-decoration-color: #00af00\">0</span> │\n",
              "│ (<span style=\"color: #0087ff; text-decoration-color: #0087ff\">GlobalAveragePooling2D</span>)             │                             │                 │\n",
              "├──────────────────────────────────────┼─────────────────────────────┼─────────────────┤\n",
              "│ dense (<span style=\"color: #0087ff; text-decoration-color: #0087ff\">Dense</span>)                        │ (<span style=\"color: #00d7ff; text-decoration-color: #00d7ff\">None</span>, <span style=\"color: #00af00; text-decoration-color: #00af00\">128</span>)                 │          <span style=\"color: #00af00; text-decoration-color: #00af00\">65,664</span> │\n",
              "├──────────────────────────────────────┼─────────────────────────────┼─────────────────┤\n",
              "│ dropout (<span style=\"color: #0087ff; text-decoration-color: #0087ff\">Dropout</span>)                    │ (<span style=\"color: #00d7ff; text-decoration-color: #00d7ff\">None</span>, <span style=\"color: #00af00; text-decoration-color: #00af00\">128</span>)                 │               <span style=\"color: #00af00; text-decoration-color: #00af00\">0</span> │\n",
              "├──────────────────────────────────────┼─────────────────────────────┼─────────────────┤\n",
              "│ dense_1 (<span style=\"color: #0087ff; text-decoration-color: #0087ff\">Dense</span>)                      │ (<span style=\"color: #00d7ff; text-decoration-color: #00d7ff\">None</span>, <span style=\"color: #00af00; text-decoration-color: #00af00\">64</span>)                  │           <span style=\"color: #00af00; text-decoration-color: #00af00\">8,256</span> │\n",
              "├──────────────────────────────────────┼─────────────────────────────┼─────────────────┤\n",
              "│ dropout_1 (<span style=\"color: #0087ff; text-decoration-color: #0087ff\">Dropout</span>)                  │ (<span style=\"color: #00d7ff; text-decoration-color: #00d7ff\">None</span>, <span style=\"color: #00af00; text-decoration-color: #00af00\">64</span>)                  │               <span style=\"color: #00af00; text-decoration-color: #00af00\">0</span> │\n",
              "├──────────────────────────────────────┼─────────────────────────────┼─────────────────┤\n",
              "│ dense_2 (<span style=\"color: #0087ff; text-decoration-color: #0087ff\">Dense</span>)                      │ (<span style=\"color: #00d7ff; text-decoration-color: #00d7ff\">None</span>, <span style=\"color: #00af00; text-decoration-color: #00af00\">3</span>)                   │             <span style=\"color: #00af00; text-decoration-color: #00af00\">195</span> │\n",
              "└──────────────────────────────────────┴─────────────────────────────┴─────────────────┘\n",
              "</pre>\n"
            ]
          },
          "metadata": {}
        },
        {
          "output_type": "display_data",
          "data": {
            "text/plain": [
              "\u001b[1m Total params: \u001b[0m\u001b[38;5;34m14,788,805\u001b[0m (56.41 MB)\n"
            ],
            "text/html": [
              "<pre style=\"white-space:pre;overflow-x:auto;line-height:normal;font-family:Menlo,'DejaVu Sans Mono',consolas,'Courier New',monospace\"><span style=\"font-weight: bold\"> Total params: </span><span style=\"color: #00af00; text-decoration-color: #00af00\">14,788,805</span> (56.41 MB)\n",
              "</pre>\n"
            ]
          },
          "metadata": {}
        },
        {
          "output_type": "display_data",
          "data": {
            "text/plain": [
              "\u001b[1m Trainable params: \u001b[0m\u001b[38;5;34m7,709,379\u001b[0m (29.41 MB)\n"
            ],
            "text/html": [
              "<pre style=\"white-space:pre;overflow-x:auto;line-height:normal;font-family:Menlo,'DejaVu Sans Mono',consolas,'Courier New',monospace\"><span style=\"font-weight: bold\"> Trainable params: </span><span style=\"color: #00af00; text-decoration-color: #00af00\">7,709,379</span> (29.41 MB)\n",
              "</pre>\n"
            ]
          },
          "metadata": {}
        },
        {
          "output_type": "display_data",
          "data": {
            "text/plain": [
              "\u001b[1m Non-trainable params: \u001b[0m\u001b[38;5;34m7,079,424\u001b[0m (27.01 MB)\n"
            ],
            "text/html": [
              "<pre style=\"white-space:pre;overflow-x:auto;line-height:normal;font-family:Menlo,'DejaVu Sans Mono',consolas,'Courier New',monospace\"><span style=\"font-weight: bold\"> Non-trainable params: </span><span style=\"color: #00af00; text-decoration-color: #00af00\">7,079,424</span> (27.01 MB)\n",
              "</pre>\n"
            ]
          },
          "metadata": {}
        },
        {
          "output_type": "display_data",
          "data": {
            "text/plain": [
              "\u001b[1m Optimizer params: \u001b[0m\u001b[38;5;34m2\u001b[0m (12.00 B)\n"
            ],
            "text/html": [
              "<pre style=\"white-space:pre;overflow-x:auto;line-height:normal;font-family:Menlo,'DejaVu Sans Mono',consolas,'Courier New',monospace\"><span style=\"font-weight: bold\"> Optimizer params: </span><span style=\"color: #00af00; text-decoration-color: #00af00\">2</span> (12.00 B)\n",
              "</pre>\n"
            ]
          },
          "metadata": {}
        },
        {
          "output_type": "stream",
          "name": "stdout",
          "text": [
            "None\n"
          ]
        },
        {
          "output_type": "display_data",
          "data": {
            "text/plain": [
              "\u001b[1mModel: \"InceptionV3\"\u001b[0m\n"
            ],
            "text/html": [
              "<pre style=\"white-space:pre;overflow-x:auto;line-height:normal;font-family:Menlo,'DejaVu Sans Mono',consolas,'Courier New',monospace\"><span style=\"font-weight: bold\">Model: \"InceptionV3\"</span>\n",
              "</pre>\n"
            ]
          },
          "metadata": {}
        },
        {
          "output_type": "display_data",
          "data": {
            "text/plain": [
              "┏━━━━━━━━━━━━━━━━━━━━━━━━━━━━━━━━━━━━━━┳━━━━━━━━━━━━━━━━━━━━━━━━━━━━━┳━━━━━━━━━━━━━━━━━┓\n",
              "┃\u001b[1m \u001b[0m\u001b[1mLayer (type)                        \u001b[0m\u001b[1m \u001b[0m┃\u001b[1m \u001b[0m\u001b[1mOutput Shape               \u001b[0m\u001b[1m \u001b[0m┃\u001b[1m \u001b[0m\u001b[1m        Param #\u001b[0m\u001b[1m \u001b[0m┃\n",
              "┡━━━━━━━━━━━━━━━━━━━━━━━━━━━━━━━━━━━━━━╇━━━━━━━━━━━━━━━━━━━━━━━━━━━━━╇━━━━━━━━━━━━━━━━━┩\n",
              "│ input_layer_4 (\u001b[38;5;33mInputLayer\u001b[0m)           │ (\u001b[38;5;45mNone\u001b[0m, \u001b[38;5;34m256\u001b[0m, \u001b[38;5;34m256\u001b[0m, \u001b[38;5;34m3\u001b[0m)         │               \u001b[38;5;34m0\u001b[0m │\n",
              "├──────────────────────────────────────┼─────────────────────────────┼─────────────────┤\n",
              "│ inception_v3 (\u001b[38;5;33mFunctional\u001b[0m)            │ (\u001b[38;5;45mNone\u001b[0m, \u001b[38;5;34m6\u001b[0m, \u001b[38;5;34m6\u001b[0m, \u001b[38;5;34m2048\u001b[0m)          │      \u001b[38;5;34m21,802,784\u001b[0m │\n",
              "├──────────────────────────────────────┼─────────────────────────────┼─────────────────┤\n",
              "│ global_average_pooling2d_1           │ (\u001b[38;5;45mNone\u001b[0m, \u001b[38;5;34m2048\u001b[0m)                │               \u001b[38;5;34m0\u001b[0m │\n",
              "│ (\u001b[38;5;33mGlobalAveragePooling2D\u001b[0m)             │                             │                 │\n",
              "├──────────────────────────────────────┼─────────────────────────────┼─────────────────┤\n",
              "│ dense_3 (\u001b[38;5;33mDense\u001b[0m)                      │ (\u001b[38;5;45mNone\u001b[0m, \u001b[38;5;34m128\u001b[0m)                 │         \u001b[38;5;34m262,272\u001b[0m │\n",
              "├──────────────────────────────────────┼─────────────────────────────┼─────────────────┤\n",
              "│ dropout_2 (\u001b[38;5;33mDropout\u001b[0m)                  │ (\u001b[38;5;45mNone\u001b[0m, \u001b[38;5;34m128\u001b[0m)                 │               \u001b[38;5;34m0\u001b[0m │\n",
              "├──────────────────────────────────────┼─────────────────────────────┼─────────────────┤\n",
              "│ dense_4 (\u001b[38;5;33mDense\u001b[0m)                      │ (\u001b[38;5;45mNone\u001b[0m, \u001b[38;5;34m64\u001b[0m)                  │           \u001b[38;5;34m8,256\u001b[0m │\n",
              "├──────────────────────────────────────┼─────────────────────────────┼─────────────────┤\n",
              "│ dropout_3 (\u001b[38;5;33mDropout\u001b[0m)                  │ (\u001b[38;5;45mNone\u001b[0m, \u001b[38;5;34m64\u001b[0m)                  │               \u001b[38;5;34m0\u001b[0m │\n",
              "├──────────────────────────────────────┼─────────────────────────────┼─────────────────┤\n",
              "│ dense_5 (\u001b[38;5;33mDense\u001b[0m)                      │ (\u001b[38;5;45mNone\u001b[0m, \u001b[38;5;34m3\u001b[0m)                   │             \u001b[38;5;34m195\u001b[0m │\n",
              "└──────────────────────────────────────┴─────────────────────────────┴─────────────────┘\n"
            ],
            "text/html": [
              "<pre style=\"white-space:pre;overflow-x:auto;line-height:normal;font-family:Menlo,'DejaVu Sans Mono',consolas,'Courier New',monospace\">┏━━━━━━━━━━━━━━━━━━━━━━━━━━━━━━━━━━━━━━┳━━━━━━━━━━━━━━━━━━━━━━━━━━━━━┳━━━━━━━━━━━━━━━━━┓\n",
              "┃<span style=\"font-weight: bold\"> Layer (type)                         </span>┃<span style=\"font-weight: bold\"> Output Shape                </span>┃<span style=\"font-weight: bold\">         Param # </span>┃\n",
              "┡━━━━━━━━━━━━━━━━━━━━━━━━━━━━━━━━━━━━━━╇━━━━━━━━━━━━━━━━━━━━━━━━━━━━━╇━━━━━━━━━━━━━━━━━┩\n",
              "│ input_layer_4 (<span style=\"color: #0087ff; text-decoration-color: #0087ff\">InputLayer</span>)           │ (<span style=\"color: #00d7ff; text-decoration-color: #00d7ff\">None</span>, <span style=\"color: #00af00; text-decoration-color: #00af00\">256</span>, <span style=\"color: #00af00; text-decoration-color: #00af00\">256</span>, <span style=\"color: #00af00; text-decoration-color: #00af00\">3</span>)         │               <span style=\"color: #00af00; text-decoration-color: #00af00\">0</span> │\n",
              "├──────────────────────────────────────┼─────────────────────────────┼─────────────────┤\n",
              "│ inception_v3 (<span style=\"color: #0087ff; text-decoration-color: #0087ff\">Functional</span>)            │ (<span style=\"color: #00d7ff; text-decoration-color: #00d7ff\">None</span>, <span style=\"color: #00af00; text-decoration-color: #00af00\">6</span>, <span style=\"color: #00af00; text-decoration-color: #00af00\">6</span>, <span style=\"color: #00af00; text-decoration-color: #00af00\">2048</span>)          │      <span style=\"color: #00af00; text-decoration-color: #00af00\">21,802,784</span> │\n",
              "├──────────────────────────────────────┼─────────────────────────────┼─────────────────┤\n",
              "│ global_average_pooling2d_1           │ (<span style=\"color: #00d7ff; text-decoration-color: #00d7ff\">None</span>, <span style=\"color: #00af00; text-decoration-color: #00af00\">2048</span>)                │               <span style=\"color: #00af00; text-decoration-color: #00af00\">0</span> │\n",
              "│ (<span style=\"color: #0087ff; text-decoration-color: #0087ff\">GlobalAveragePooling2D</span>)             │                             │                 │\n",
              "├──────────────────────────────────────┼─────────────────────────────┼─────────────────┤\n",
              "│ dense_3 (<span style=\"color: #0087ff; text-decoration-color: #0087ff\">Dense</span>)                      │ (<span style=\"color: #00d7ff; text-decoration-color: #00d7ff\">None</span>, <span style=\"color: #00af00; text-decoration-color: #00af00\">128</span>)                 │         <span style=\"color: #00af00; text-decoration-color: #00af00\">262,272</span> │\n",
              "├──────────────────────────────────────┼─────────────────────────────┼─────────────────┤\n",
              "│ dropout_2 (<span style=\"color: #0087ff; text-decoration-color: #0087ff\">Dropout</span>)                  │ (<span style=\"color: #00d7ff; text-decoration-color: #00d7ff\">None</span>, <span style=\"color: #00af00; text-decoration-color: #00af00\">128</span>)                 │               <span style=\"color: #00af00; text-decoration-color: #00af00\">0</span> │\n",
              "├──────────────────────────────────────┼─────────────────────────────┼─────────────────┤\n",
              "│ dense_4 (<span style=\"color: #0087ff; text-decoration-color: #0087ff\">Dense</span>)                      │ (<span style=\"color: #00d7ff; text-decoration-color: #00d7ff\">None</span>, <span style=\"color: #00af00; text-decoration-color: #00af00\">64</span>)                  │           <span style=\"color: #00af00; text-decoration-color: #00af00\">8,256</span> │\n",
              "├──────────────────────────────────────┼─────────────────────────────┼─────────────────┤\n",
              "│ dropout_3 (<span style=\"color: #0087ff; text-decoration-color: #0087ff\">Dropout</span>)                  │ (<span style=\"color: #00d7ff; text-decoration-color: #00d7ff\">None</span>, <span style=\"color: #00af00; text-decoration-color: #00af00\">64</span>)                  │               <span style=\"color: #00af00; text-decoration-color: #00af00\">0</span> │\n",
              "├──────────────────────────────────────┼─────────────────────────────┼─────────────────┤\n",
              "│ dense_5 (<span style=\"color: #0087ff; text-decoration-color: #0087ff\">Dense</span>)                      │ (<span style=\"color: #00d7ff; text-decoration-color: #00d7ff\">None</span>, <span style=\"color: #00af00; text-decoration-color: #00af00\">3</span>)                   │             <span style=\"color: #00af00; text-decoration-color: #00af00\">195</span> │\n",
              "└──────────────────────────────────────┴─────────────────────────────┴─────────────────┘\n",
              "</pre>\n"
            ]
          },
          "metadata": {}
        },
        {
          "output_type": "display_data",
          "data": {
            "text/plain": [
              "\u001b[1m Total params: \u001b[0m\u001b[38;5;34m22,073,509\u001b[0m (84.20 MB)\n"
            ],
            "text/html": [
              "<pre style=\"white-space:pre;overflow-x:auto;line-height:normal;font-family:Menlo,'DejaVu Sans Mono',consolas,'Courier New',monospace\"><span style=\"font-weight: bold\"> Total params: </span><span style=\"color: #00af00; text-decoration-color: #00af00\">22,073,509</span> (84.20 MB)\n",
              "</pre>\n"
            ]
          },
          "metadata": {}
        },
        {
          "output_type": "display_data",
          "data": {
            "text/plain": [
              "\u001b[1m Trainable params: \u001b[0m\u001b[38;5;34m21,645,347\u001b[0m (82.57 MB)\n"
            ],
            "text/html": [
              "<pre style=\"white-space:pre;overflow-x:auto;line-height:normal;font-family:Menlo,'DejaVu Sans Mono',consolas,'Courier New',monospace\"><span style=\"font-weight: bold\"> Trainable params: </span><span style=\"color: #00af00; text-decoration-color: #00af00\">21,645,347</span> (82.57 MB)\n",
              "</pre>\n"
            ]
          },
          "metadata": {}
        },
        {
          "output_type": "display_data",
          "data": {
            "text/plain": [
              "\u001b[1m Non-trainable params: \u001b[0m\u001b[38;5;34m428,160\u001b[0m (1.63 MB)\n"
            ],
            "text/html": [
              "<pre style=\"white-space:pre;overflow-x:auto;line-height:normal;font-family:Menlo,'DejaVu Sans Mono',consolas,'Courier New',monospace\"><span style=\"font-weight: bold\"> Non-trainable params: </span><span style=\"color: #00af00; text-decoration-color: #00af00\">428,160</span> (1.63 MB)\n",
              "</pre>\n"
            ]
          },
          "metadata": {}
        },
        {
          "output_type": "display_data",
          "data": {
            "text/plain": [
              "\u001b[1m Optimizer params: \u001b[0m\u001b[38;5;34m2\u001b[0m (12.00 B)\n"
            ],
            "text/html": [
              "<pre style=\"white-space:pre;overflow-x:auto;line-height:normal;font-family:Menlo,'DejaVu Sans Mono',consolas,'Courier New',monospace\"><span style=\"font-weight: bold\"> Optimizer params: </span><span style=\"color: #00af00; text-decoration-color: #00af00\">2</span> (12.00 B)\n",
              "</pre>\n"
            ]
          },
          "metadata": {}
        },
        {
          "output_type": "stream",
          "name": "stdout",
          "text": [
            "None\n"
          ]
        },
        {
          "output_type": "display_data",
          "data": {
            "text/plain": [
              "\u001b[1mModel: \"DenseNet121\"\u001b[0m\n"
            ],
            "text/html": [
              "<pre style=\"white-space:pre;overflow-x:auto;line-height:normal;font-family:Menlo,'DejaVu Sans Mono',consolas,'Courier New',monospace\"><span style=\"font-weight: bold\">Model: \"DenseNet121\"</span>\n",
              "</pre>\n"
            ]
          },
          "metadata": {}
        },
        {
          "output_type": "display_data",
          "data": {
            "text/plain": [
              "┏━━━━━━━━━━━━━━━━━━━━━━━━━━━━━━━━━━━━━━┳━━━━━━━━━━━━━━━━━━━━━━━━━━━━━┳━━━━━━━━━━━━━━━━━┓\n",
              "┃\u001b[1m \u001b[0m\u001b[1mLayer (type)                        \u001b[0m\u001b[1m \u001b[0m┃\u001b[1m \u001b[0m\u001b[1mOutput Shape               \u001b[0m\u001b[1m \u001b[0m┃\u001b[1m \u001b[0m\u001b[1m        Param #\u001b[0m\u001b[1m \u001b[0m┃\n",
              "┡━━━━━━━━━━━━━━━━━━━━━━━━━━━━━━━━━━━━━━╇━━━━━━━━━━━━━━━━━━━━━━━━━━━━━╇━━━━━━━━━━━━━━━━━┩\n",
              "│ input_layer_5 (\u001b[38;5;33mInputLayer\u001b[0m)           │ (\u001b[38;5;45mNone\u001b[0m, \u001b[38;5;34m256\u001b[0m, \u001b[38;5;34m256\u001b[0m, \u001b[38;5;34m3\u001b[0m)         │               \u001b[38;5;34m0\u001b[0m │\n",
              "├──────────────────────────────────────┼─────────────────────────────┼─────────────────┤\n",
              "│ densenet121 (\u001b[38;5;33mFunctional\u001b[0m)             │ (\u001b[38;5;45mNone\u001b[0m, \u001b[38;5;34m8\u001b[0m, \u001b[38;5;34m8\u001b[0m, \u001b[38;5;34m1024\u001b[0m)          │       \u001b[38;5;34m7,037,504\u001b[0m │\n",
              "├──────────────────────────────────────┼─────────────────────────────┼─────────────────┤\n",
              "│ global_average_pooling2d_2           │ (\u001b[38;5;45mNone\u001b[0m, \u001b[38;5;34m1024\u001b[0m)                │               \u001b[38;5;34m0\u001b[0m │\n",
              "│ (\u001b[38;5;33mGlobalAveragePooling2D\u001b[0m)             │                             │                 │\n",
              "├──────────────────────────────────────┼─────────────────────────────┼─────────────────┤\n",
              "│ dense_6 (\u001b[38;5;33mDense\u001b[0m)                      │ (\u001b[38;5;45mNone\u001b[0m, \u001b[38;5;34m128\u001b[0m)                 │         \u001b[38;5;34m131,200\u001b[0m │\n",
              "├──────────────────────────────────────┼─────────────────────────────┼─────────────────┤\n",
              "│ dropout_4 (\u001b[38;5;33mDropout\u001b[0m)                  │ (\u001b[38;5;45mNone\u001b[0m, \u001b[38;5;34m128\u001b[0m)                 │               \u001b[38;5;34m0\u001b[0m │\n",
              "├──────────────────────────────────────┼─────────────────────────────┼─────────────────┤\n",
              "│ dense_7 (\u001b[38;5;33mDense\u001b[0m)                      │ (\u001b[38;5;45mNone\u001b[0m, \u001b[38;5;34m64\u001b[0m)                  │           \u001b[38;5;34m8,256\u001b[0m │\n",
              "├──────────────────────────────────────┼─────────────────────────────┼─────────────────┤\n",
              "│ dropout_5 (\u001b[38;5;33mDropout\u001b[0m)                  │ (\u001b[38;5;45mNone\u001b[0m, \u001b[38;5;34m64\u001b[0m)                  │               \u001b[38;5;34m0\u001b[0m │\n",
              "├──────────────────────────────────────┼─────────────────────────────┼─────────────────┤\n",
              "│ dense_8 (\u001b[38;5;33mDense\u001b[0m)                      │ (\u001b[38;5;45mNone\u001b[0m, \u001b[38;5;34m3\u001b[0m)                   │             \u001b[38;5;34m195\u001b[0m │\n",
              "└──────────────────────────────────────┴─────────────────────────────┴─────────────────┘\n"
            ],
            "text/html": [
              "<pre style=\"white-space:pre;overflow-x:auto;line-height:normal;font-family:Menlo,'DejaVu Sans Mono',consolas,'Courier New',monospace\">┏━━━━━━━━━━━━━━━━━━━━━━━━━━━━━━━━━━━━━━┳━━━━━━━━━━━━━━━━━━━━━━━━━━━━━┳━━━━━━━━━━━━━━━━━┓\n",
              "┃<span style=\"font-weight: bold\"> Layer (type)                         </span>┃<span style=\"font-weight: bold\"> Output Shape                </span>┃<span style=\"font-weight: bold\">         Param # </span>┃\n",
              "┡━━━━━━━━━━━━━━━━━━━━━━━━━━━━━━━━━━━━━━╇━━━━━━━━━━━━━━━━━━━━━━━━━━━━━╇━━━━━━━━━━━━━━━━━┩\n",
              "│ input_layer_5 (<span style=\"color: #0087ff; text-decoration-color: #0087ff\">InputLayer</span>)           │ (<span style=\"color: #00d7ff; text-decoration-color: #00d7ff\">None</span>, <span style=\"color: #00af00; text-decoration-color: #00af00\">256</span>, <span style=\"color: #00af00; text-decoration-color: #00af00\">256</span>, <span style=\"color: #00af00; text-decoration-color: #00af00\">3</span>)         │               <span style=\"color: #00af00; text-decoration-color: #00af00\">0</span> │\n",
              "├──────────────────────────────────────┼─────────────────────────────┼─────────────────┤\n",
              "│ densenet121 (<span style=\"color: #0087ff; text-decoration-color: #0087ff\">Functional</span>)             │ (<span style=\"color: #00d7ff; text-decoration-color: #00d7ff\">None</span>, <span style=\"color: #00af00; text-decoration-color: #00af00\">8</span>, <span style=\"color: #00af00; text-decoration-color: #00af00\">8</span>, <span style=\"color: #00af00; text-decoration-color: #00af00\">1024</span>)          │       <span style=\"color: #00af00; text-decoration-color: #00af00\">7,037,504</span> │\n",
              "├──────────────────────────────────────┼─────────────────────────────┼─────────────────┤\n",
              "│ global_average_pooling2d_2           │ (<span style=\"color: #00d7ff; text-decoration-color: #00d7ff\">None</span>, <span style=\"color: #00af00; text-decoration-color: #00af00\">1024</span>)                │               <span style=\"color: #00af00; text-decoration-color: #00af00\">0</span> │\n",
              "│ (<span style=\"color: #0087ff; text-decoration-color: #0087ff\">GlobalAveragePooling2D</span>)             │                             │                 │\n",
              "├──────────────────────────────────────┼─────────────────────────────┼─────────────────┤\n",
              "│ dense_6 (<span style=\"color: #0087ff; text-decoration-color: #0087ff\">Dense</span>)                      │ (<span style=\"color: #00d7ff; text-decoration-color: #00d7ff\">None</span>, <span style=\"color: #00af00; text-decoration-color: #00af00\">128</span>)                 │         <span style=\"color: #00af00; text-decoration-color: #00af00\">131,200</span> │\n",
              "├──────────────────────────────────────┼─────────────────────────────┼─────────────────┤\n",
              "│ dropout_4 (<span style=\"color: #0087ff; text-decoration-color: #0087ff\">Dropout</span>)                  │ (<span style=\"color: #00d7ff; text-decoration-color: #00d7ff\">None</span>, <span style=\"color: #00af00; text-decoration-color: #00af00\">128</span>)                 │               <span style=\"color: #00af00; text-decoration-color: #00af00\">0</span> │\n",
              "├──────────────────────────────────────┼─────────────────────────────┼─────────────────┤\n",
              "│ dense_7 (<span style=\"color: #0087ff; text-decoration-color: #0087ff\">Dense</span>)                      │ (<span style=\"color: #00d7ff; text-decoration-color: #00d7ff\">None</span>, <span style=\"color: #00af00; text-decoration-color: #00af00\">64</span>)                  │           <span style=\"color: #00af00; text-decoration-color: #00af00\">8,256</span> │\n",
              "├──────────────────────────────────────┼─────────────────────────────┼─────────────────┤\n",
              "│ dropout_5 (<span style=\"color: #0087ff; text-decoration-color: #0087ff\">Dropout</span>)                  │ (<span style=\"color: #00d7ff; text-decoration-color: #00d7ff\">None</span>, <span style=\"color: #00af00; text-decoration-color: #00af00\">64</span>)                  │               <span style=\"color: #00af00; text-decoration-color: #00af00\">0</span> │\n",
              "├──────────────────────────────────────┼─────────────────────────────┼─────────────────┤\n",
              "│ dense_8 (<span style=\"color: #0087ff; text-decoration-color: #0087ff\">Dense</span>)                      │ (<span style=\"color: #00d7ff; text-decoration-color: #00d7ff\">None</span>, <span style=\"color: #00af00; text-decoration-color: #00af00\">3</span>)                   │             <span style=\"color: #00af00; text-decoration-color: #00af00\">195</span> │\n",
              "└──────────────────────────────────────┴─────────────────────────────┴─────────────────┘\n",
              "</pre>\n"
            ]
          },
          "metadata": {}
        },
        {
          "output_type": "display_data",
          "data": {
            "text/plain": [
              "\u001b[1m Total params: \u001b[0m\u001b[38;5;34m7,177,157\u001b[0m (27.38 MB)\n"
            ],
            "text/html": [
              "<pre style=\"white-space:pre;overflow-x:auto;line-height:normal;font-family:Menlo,'DejaVu Sans Mono',consolas,'Courier New',monospace\"><span style=\"font-weight: bold\"> Total params: </span><span style=\"color: #00af00; text-decoration-color: #00af00\">7,177,157</span> (27.38 MB)\n",
              "</pre>\n"
            ]
          },
          "metadata": {}
        },
        {
          "output_type": "display_data",
          "data": {
            "text/plain": [
              "\u001b[1m Trainable params: \u001b[0m\u001b[38;5;34m6,888,515\u001b[0m (26.28 MB)\n"
            ],
            "text/html": [
              "<pre style=\"white-space:pre;overflow-x:auto;line-height:normal;font-family:Menlo,'DejaVu Sans Mono',consolas,'Courier New',monospace\"><span style=\"font-weight: bold\"> Trainable params: </span><span style=\"color: #00af00; text-decoration-color: #00af00\">6,888,515</span> (26.28 MB)\n",
              "</pre>\n"
            ]
          },
          "metadata": {}
        },
        {
          "output_type": "display_data",
          "data": {
            "text/plain": [
              "\u001b[1m Non-trainable params: \u001b[0m\u001b[38;5;34m288,640\u001b[0m (1.10 MB)\n"
            ],
            "text/html": [
              "<pre style=\"white-space:pre;overflow-x:auto;line-height:normal;font-family:Menlo,'DejaVu Sans Mono',consolas,'Courier New',monospace\"><span style=\"font-weight: bold\"> Non-trainable params: </span><span style=\"color: #00af00; text-decoration-color: #00af00\">288,640</span> (1.10 MB)\n",
              "</pre>\n"
            ]
          },
          "metadata": {}
        },
        {
          "output_type": "display_data",
          "data": {
            "text/plain": [
              "\u001b[1m Optimizer params: \u001b[0m\u001b[38;5;34m2\u001b[0m (12.00 B)\n"
            ],
            "text/html": [
              "<pre style=\"white-space:pre;overflow-x:auto;line-height:normal;font-family:Menlo,'DejaVu Sans Mono',consolas,'Courier New',monospace\"><span style=\"font-weight: bold\"> Optimizer params: </span><span style=\"color: #00af00; text-decoration-color: #00af00\">2</span> (12.00 B)\n",
              "</pre>\n"
            ]
          },
          "metadata": {}
        },
        {
          "output_type": "stream",
          "name": "stdout",
          "text": [
            "None\n"
          ]
        },
        {
          "output_type": "display_data",
          "data": {
            "text/plain": [
              "\u001b[1mModel: \"functional\"\u001b[0m\n"
            ],
            "text/html": [
              "<pre style=\"white-space:pre;overflow-x:auto;line-height:normal;font-family:Menlo,'DejaVu Sans Mono',consolas,'Courier New',monospace\"><span style=\"font-weight: bold\">Model: \"functional\"</span>\n",
              "</pre>\n"
            ]
          },
          "metadata": {}
        },
        {
          "output_type": "display_data",
          "data": {
            "text/plain": [
              "┏━━━━━━━━━━━━━━━━━━━━━━━━━━━┳━━━━━━━━━━━━━━━━━━━━━━━━┳━━━━━━━━━━━━━━━━┳━━━━━━━━━━━━━━━━━━━━━━━━┓\n",
              "┃\u001b[1m \u001b[0m\u001b[1mLayer (type)             \u001b[0m\u001b[1m \u001b[0m┃\u001b[1m \u001b[0m\u001b[1mOutput Shape          \u001b[0m\u001b[1m \u001b[0m┃\u001b[1m \u001b[0m\u001b[1m       Param #\u001b[0m\u001b[1m \u001b[0m┃\u001b[1m \u001b[0m\u001b[1mConnected to          \u001b[0m\u001b[1m \u001b[0m┃\n",
              "┡━━━━━━━━━━━━━━━━━━━━━━━━━━━╇━━━━━━━━━━━━━━━━━━━━━━━━╇━━━━━━━━━━━━━━━━╇━━━━━━━━━━━━━━━━━━━━━━━━┩\n",
              "│ input_layer (\u001b[38;5;33mInputLayer\u001b[0m)  │ (\u001b[38;5;45mNone\u001b[0m, \u001b[38;5;34m256\u001b[0m, \u001b[38;5;34m256\u001b[0m, \u001b[38;5;34m3\u001b[0m)    │              \u001b[38;5;34m0\u001b[0m │ -                      │\n",
              "├───────────────────────────┼────────────────────────┼────────────────┼────────────────────────┤\n",
              "│ VGG16 (\u001b[38;5;33mFunctional\u001b[0m)        │ (\u001b[38;5;45mNone\u001b[0m, \u001b[38;5;34m3\u001b[0m)              │     \u001b[38;5;34m14,788,803\u001b[0m │ input_layer[\u001b[38;5;34m0\u001b[0m][\u001b[38;5;34m0\u001b[0m]      │\n",
              "├───────────────────────────┼────────────────────────┼────────────────┼────────────────────────┤\n",
              "│ InceptionV3 (\u001b[38;5;33mFunctional\u001b[0m)  │ (\u001b[38;5;45mNone\u001b[0m, \u001b[38;5;34m3\u001b[0m)              │     \u001b[38;5;34m22,073,507\u001b[0m │ input_layer[\u001b[38;5;34m0\u001b[0m][\u001b[38;5;34m0\u001b[0m]      │\n",
              "├───────────────────────────┼────────────────────────┼────────────────┼────────────────────────┤\n",
              "│ DenseNet121 (\u001b[38;5;33mFunctional\u001b[0m)  │ (\u001b[38;5;45mNone\u001b[0m, \u001b[38;5;34m3\u001b[0m)              │      \u001b[38;5;34m7,177,155\u001b[0m │ input_layer[\u001b[38;5;34m0\u001b[0m][\u001b[38;5;34m0\u001b[0m]      │\n",
              "├───────────────────────────┼────────────────────────┼────────────────┼────────────────────────┤\n",
              "│ average (\u001b[38;5;33mAverage\u001b[0m)         │ (\u001b[38;5;45mNone\u001b[0m, \u001b[38;5;34m3\u001b[0m)              │              \u001b[38;5;34m0\u001b[0m │ VGG16[\u001b[38;5;34m0\u001b[0m][\u001b[38;5;34m0\u001b[0m],           │\n",
              "│                           │                        │                │ InceptionV3[\u001b[38;5;34m0\u001b[0m][\u001b[38;5;34m0\u001b[0m],     │\n",
              "│                           │                        │                │ DenseNet121[\u001b[38;5;34m0\u001b[0m][\u001b[38;5;34m0\u001b[0m]      │\n",
              "└───────────────────────────┴────────────────────────┴────────────────┴────────────────────────┘\n"
            ],
            "text/html": [
              "<pre style=\"white-space:pre;overflow-x:auto;line-height:normal;font-family:Menlo,'DejaVu Sans Mono',consolas,'Courier New',monospace\">┏━━━━━━━━━━━━━━━━━━━━━━━━━━━┳━━━━━━━━━━━━━━━━━━━━━━━━┳━━━━━━━━━━━━━━━━┳━━━━━━━━━━━━━━━━━━━━━━━━┓\n",
              "┃<span style=\"font-weight: bold\"> Layer (type)              </span>┃<span style=\"font-weight: bold\"> Output Shape           </span>┃<span style=\"font-weight: bold\">        Param # </span>┃<span style=\"font-weight: bold\"> Connected to           </span>┃\n",
              "┡━━━━━━━━━━━━━━━━━━━━━━━━━━━╇━━━━━━━━━━━━━━━━━━━━━━━━╇━━━━━━━━━━━━━━━━╇━━━━━━━━━━━━━━━━━━━━━━━━┩\n",
              "│ input_layer (<span style=\"color: #0087ff; text-decoration-color: #0087ff\">InputLayer</span>)  │ (<span style=\"color: #00d7ff; text-decoration-color: #00d7ff\">None</span>, <span style=\"color: #00af00; text-decoration-color: #00af00\">256</span>, <span style=\"color: #00af00; text-decoration-color: #00af00\">256</span>, <span style=\"color: #00af00; text-decoration-color: #00af00\">3</span>)    │              <span style=\"color: #00af00; text-decoration-color: #00af00\">0</span> │ -                      │\n",
              "├───────────────────────────┼────────────────────────┼────────────────┼────────────────────────┤\n",
              "│ VGG16 (<span style=\"color: #0087ff; text-decoration-color: #0087ff\">Functional</span>)        │ (<span style=\"color: #00d7ff; text-decoration-color: #00d7ff\">None</span>, <span style=\"color: #00af00; text-decoration-color: #00af00\">3</span>)              │     <span style=\"color: #00af00; text-decoration-color: #00af00\">14,788,803</span> │ input_layer[<span style=\"color: #00af00; text-decoration-color: #00af00\">0</span>][<span style=\"color: #00af00; text-decoration-color: #00af00\">0</span>]      │\n",
              "├───────────────────────────┼────────────────────────┼────────────────┼────────────────────────┤\n",
              "│ InceptionV3 (<span style=\"color: #0087ff; text-decoration-color: #0087ff\">Functional</span>)  │ (<span style=\"color: #00d7ff; text-decoration-color: #00d7ff\">None</span>, <span style=\"color: #00af00; text-decoration-color: #00af00\">3</span>)              │     <span style=\"color: #00af00; text-decoration-color: #00af00\">22,073,507</span> │ input_layer[<span style=\"color: #00af00; text-decoration-color: #00af00\">0</span>][<span style=\"color: #00af00; text-decoration-color: #00af00\">0</span>]      │\n",
              "├───────────────────────────┼────────────────────────┼────────────────┼────────────────────────┤\n",
              "│ DenseNet121 (<span style=\"color: #0087ff; text-decoration-color: #0087ff\">Functional</span>)  │ (<span style=\"color: #00d7ff; text-decoration-color: #00d7ff\">None</span>, <span style=\"color: #00af00; text-decoration-color: #00af00\">3</span>)              │      <span style=\"color: #00af00; text-decoration-color: #00af00\">7,177,155</span> │ input_layer[<span style=\"color: #00af00; text-decoration-color: #00af00\">0</span>][<span style=\"color: #00af00; text-decoration-color: #00af00\">0</span>]      │\n",
              "├───────────────────────────┼────────────────────────┼────────────────┼────────────────────────┤\n",
              "│ average (<span style=\"color: #0087ff; text-decoration-color: #0087ff\">Average</span>)         │ (<span style=\"color: #00d7ff; text-decoration-color: #00d7ff\">None</span>, <span style=\"color: #00af00; text-decoration-color: #00af00\">3</span>)              │              <span style=\"color: #00af00; text-decoration-color: #00af00\">0</span> │ VGG16[<span style=\"color: #00af00; text-decoration-color: #00af00\">0</span>][<span style=\"color: #00af00; text-decoration-color: #00af00\">0</span>],           │\n",
              "│                           │                        │                │ InceptionV3[<span style=\"color: #00af00; text-decoration-color: #00af00\">0</span>][<span style=\"color: #00af00; text-decoration-color: #00af00\">0</span>],     │\n",
              "│                           │                        │                │ DenseNet121[<span style=\"color: #00af00; text-decoration-color: #00af00\">0</span>][<span style=\"color: #00af00; text-decoration-color: #00af00\">0</span>]      │\n",
              "└───────────────────────────┴────────────────────────┴────────────────┴────────────────────────┘\n",
              "</pre>\n"
            ]
          },
          "metadata": {}
        },
        {
          "output_type": "display_data",
          "data": {
            "text/plain": [
              "\u001b[1m Total params: \u001b[0m\u001b[38;5;34m44,039,467\u001b[0m (168.00 MB)\n"
            ],
            "text/html": [
              "<pre style=\"white-space:pre;overflow-x:auto;line-height:normal;font-family:Menlo,'DejaVu Sans Mono',consolas,'Courier New',monospace\"><span style=\"font-weight: bold\"> Total params: </span><span style=\"color: #00af00; text-decoration-color: #00af00\">44,039,467</span> (168.00 MB)\n",
              "</pre>\n"
            ]
          },
          "metadata": {}
        },
        {
          "output_type": "display_data",
          "data": {
            "text/plain": [
              "\u001b[1m Trainable params: \u001b[0m\u001b[38;5;34m36,243,241\u001b[0m (138.26 MB)\n"
            ],
            "text/html": [
              "<pre style=\"white-space:pre;overflow-x:auto;line-height:normal;font-family:Menlo,'DejaVu Sans Mono',consolas,'Courier New',monospace\"><span style=\"font-weight: bold\"> Trainable params: </span><span style=\"color: #00af00; text-decoration-color: #00af00\">36,243,241</span> (138.26 MB)\n",
              "</pre>\n"
            ]
          },
          "metadata": {}
        },
        {
          "output_type": "display_data",
          "data": {
            "text/plain": [
              "\u001b[1m Non-trainable params: \u001b[0m\u001b[38;5;34m7,796,224\u001b[0m (29.74 MB)\n"
            ],
            "text/html": [
              "<pre style=\"white-space:pre;overflow-x:auto;line-height:normal;font-family:Menlo,'DejaVu Sans Mono',consolas,'Courier New',monospace\"><span style=\"font-weight: bold\"> Non-trainable params: </span><span style=\"color: #00af00; text-decoration-color: #00af00\">7,796,224</span> (29.74 MB)\n",
              "</pre>\n"
            ]
          },
          "metadata": {}
        },
        {
          "output_type": "display_data",
          "data": {
            "text/plain": [
              "\u001b[1m Optimizer params: \u001b[0m\u001b[38;5;34m2\u001b[0m (12.00 B)\n"
            ],
            "text/html": [
              "<pre style=\"white-space:pre;overflow-x:auto;line-height:normal;font-family:Menlo,'DejaVu Sans Mono',consolas,'Courier New',monospace\"><span style=\"font-weight: bold\"> Optimizer params: </span><span style=\"color: #00af00; text-decoration-color: #00af00\">2</span> (12.00 B)\n",
              "</pre>\n"
            ]
          },
          "metadata": {}
        },
        {
          "output_type": "stream",
          "name": "stdout",
          "text": [
            "None\n"
          ]
        }
      ],
      "source": [
        "from tensorflow.keras.models import load_model\n",
        "\n",
        "# Load your trained models\n",
        "vgg16_model = load_model('vgg16_model.h5')\n",
        "inception_model = load_model('inception_model.h5')\n",
        "densenet_model = load_model('densenet_model.h5')\n",
        "potato_bagging_model = load_model('potato_bagging_model.h5')\n",
        "\n",
        "# Check if models are loaded correctly\n",
        "print(vgg16_model.summary())\n",
        "print(inception_model.summary())\n",
        "print(densenet_model.summary())\n",
        "print(potato_bagging_model.summary())\n"
      ]
    },
    {
      "cell_type": "code",
      "source": [
        "import numpy as np\n",
        "data = np.load(\"/content/potato_dataset.npz\")\n",
        "\n",
        "x_train = data['x_train']\n",
        "y_train = data['y_train']\n",
        "x_test = data['x_test']\n",
        "y_test = data['y_test']"
      ],
      "metadata": {
        "id": "loUaY5ngUTNL"
      },
      "execution_count": 2,
      "outputs": []
    },
    {
      "cell_type": "code",
      "source": [],
      "metadata": {
        "id": "zWHgXU9DeFo1"
      },
      "execution_count": 2,
      "outputs": []
    },
    {
      "cell_type": "code",
      "source": [
        "from sklearn.metrics import accuracy_score, recall_score\n",
        "\n",
        "def evaluate_model(model, x_test, y_test):\n",
        "    # Predict probabilities\n",
        "    y_pred_prob = model.predict(x_test)\n",
        "    # Convert probabilities to class labels\n",
        "    y_pred = y_pred_prob.argmax(axis=1)\n",
        "    y_true = y_test.argmax(axis=1)\n",
        "    # Calculate accuracy and recall\n",
        "    accuracy = accuracy_score(y_true, y_pred)\n",
        "    recall = recall_score(y_true, y_pred, average='macro')  # 'macro' for unweighted average across classes\n",
        "    return accuracy, recall\n"
      ],
      "metadata": {
        "id": "uMbkxD7CVuax"
      },
      "execution_count": 3,
      "outputs": []
    },
    {
      "cell_type": "code",
      "source": [
        "# Evaluate VGG16\n",
        "vgg16_accuracy, vgg16_recall = evaluate_model(vgg16_model, x_test, y_test)\n",
        "# Evaluate InceptionV3\n",
        "inception_accuracy, inception_recall = evaluate_model(inception_model, x_test, y_test)\n",
        "# Evaluate DenseNet121\n",
        "densenet_accuracy, densenet_recall = evaluate_model(densenet_model, x_test, y_test)\n",
        "# Evaluate Bagging Ensemble\n",
        "bagging_accuracy, bagging_recall = evaluate_model(potato_bagging_model, x_test, y_test)\n"
      ],
      "metadata": {
        "colab": {
          "base_uri": "https://localhost:8080/"
        },
        "id": "35GD6EchapGB",
        "outputId": "6967dbbf-a794-49b6-9b85-7350e345dbff"
      },
      "execution_count": 4,
      "outputs": [
        {
          "output_type": "stream",
          "name": "stdout",
          "text": [
            "\u001b[1m31/31\u001b[0m \u001b[32m━━━━━━━━━━━━━━━━━━━━\u001b[0m\u001b[37m\u001b[0m \u001b[1m275s\u001b[0m 9s/step\n",
            "\u001b[1m31/31\u001b[0m \u001b[32m━━━━━━━━━━━━━━━━━━━━\u001b[0m\u001b[37m\u001b[0m \u001b[1m132s\u001b[0m 4s/step\n",
            "\u001b[1m31/31\u001b[0m \u001b[32m━━━━━━━━━━━━━━━━━━━━\u001b[0m\u001b[37m\u001b[0m \u001b[1m259s\u001b[0m 8s/step\n",
            "\u001b[1m31/31\u001b[0m \u001b[32m━━━━━━━━━━━━━━━━━━━━\u001b[0m\u001b[37m\u001b[0m \u001b[1m626s\u001b[0m 20s/step\n"
          ]
        }
      ]
    },
    {
      "cell_type": "code",
      "source": [
        "import matplotlib.pyplot as plt\n",
        "import numpy as np\n",
        "\n",
        "# Model names and their corresponding metrics\n",
        "models = ['VGG16', 'InceptionV3', 'DenseNet121', 'Bagging Ensemble']\n",
        "accuracies = [vgg16_accuracy, inception_accuracy, densenet_accuracy, bagging_accuracy]\n",
        "recalls = [vgg16_recall, inception_recall, densenet_recall, bagging_recall]\n",
        "\n",
        "# Sorting models by accuracy for better visualization\n",
        "sorted_indices = np.argsort(accuracies)  # Sort based on accuracy\n",
        "models = [models[i] for i in sorted_indices]\n",
        "accuracies = [accuracies[i] for i in sorted_indices]\n",
        "recalls = [recalls[i] for i in sorted_indices]\n",
        "\n",
        "x = np.arange(len(models))  # Label positions\n",
        "width = 0.3  # Reduce bar width for better visibility\n",
        "\n",
        "fig, ax = plt.subplots(figsize=(8, 5))  # Compact figure size\n",
        "\n",
        "# Plot bars\n",
        "bars1 = ax.bar(x - width/2, accuracies, width, label='Accuracy', color='royalblue', alpha=0.8)\n",
        "bars2 = ax.bar(x + width/2, recalls, width, label='Recall', color='seagreen', alpha=0.8)\n",
        "\n",
        "# Add vertical labels inside bars\n",
        "def attach_labels_vertical(bars, color='white'):\n",
        "    for bar in bars:\n",
        "        height = bar.get_height()\n",
        "        ax.annotate(f'{height:.2%}',  # Convert decimal to percentage\n",
        "                    xy=(bar.get_x() + bar.get_width() / 2, height / 2),  # Place inside the bar\n",
        "                    rotation=90,  # Rotate text vertically\n",
        "                    ha='center', va='center', fontsize=10, fontweight='bold', color=color)\n",
        "\n",
        "attach_labels_vertical(bars1)\n",
        "attach_labels_vertical(bars2)\n",
        "\n",
        "# Set labels and title\n",
        "ax.set_xlabel('Models', fontsize=12)\n",
        "ax.set_ylabel('Scores', fontsize=12)\n",
        "ax.set_title('Accuracy and Recall of Models', fontsize=14, fontweight='bold')\n",
        "ax.set_xticks(x)\n",
        "ax.set_xticklabels(models, fontsize=11)\n",
        "ax.legend()\n",
        "\n",
        "plt.ylim(0, 1)  # Keep y-axis within [0,1]\n",
        "plt.grid(axis='y', linestyle='--', alpha=0.7)  # Add horizontal grid lines\n",
        "\n",
        "plt.tight_layout()\n",
        "plt.show()\n"
      ],
      "metadata": {
        "colab": {
          "base_uri": "https://localhost:8080/",
          "height": 407
        },
        "id": "9dqGGtXaa4xJ",
        "outputId": "ed18f7ee-6bbd-4075-b2a3-0e6ab4f5ddc0"
      },
      "execution_count": 9,
      "outputs": [
        {
          "output_type": "display_data",
          "data": {
            "text/plain": [
              "<Figure size 800x500 with 1 Axes>"
            ],
            "image/png": "[encoded data removed]"
          },
          "metadata": {}
        }
      ]
    },
    {
      "cell_type": "code",
      "source": [
        "print(\"VGG16 Model\")\n",
        "print(\"Accuracy :\",vgg16_accuracy)\n",
        "print(\"Recall :\",vgg16_recall)\n",
        "\n",
        "print(\"Inception Model\")\n",
        "print(\"Accuracy :\",inception_accuracy)\n",
        "print(\"Recall :\",inception_recall)\n",
        "\n",
        "print(\"Densenet Model\")\n",
        "print(\"Accuracy :\",densenet_accuracy)\n",
        "print(\"Recall :\",densenet_recall)\n",
        "\n",
        "print(\"Bagging Model\")\n",
        "print(\"Accuracy :\",bagging_accuracy)\n",
        "print(\"Recall :\",bagging_recall)"
      ],
      "metadata": {
        "colab": {
          "base_uri": "https://localhost:8080/"
        },
        "id": "4DaEQIjydBlX",
        "outputId": "839cda2c-46fe-4e12-c8e5-b5ef4c1e753b"
      },
      "execution_count": 6,
      "outputs": [
        {
          "output_type": "stream",
          "name": "stdout",
          "text": [
            "VGG16 Model\n",
            "Accuracy : 0.9919273461150353\n",
            "Recall : 0.9919556273875991\n",
            "Inception Model\n",
            "Accuracy : 0.9899091826437941\n",
            "Recall : 0.9899108629640514\n",
            "Densenet Model\n",
            "Accuracy : 0.9949545913218971\n",
            "Recall : 0.9949799196787149\n",
            "Bagging Model\n",
            "Accuracy : 0.9949545913218971\n",
            "Recall : 0.9949799196787149\n"
          ]
        }
      ]
    },
    {
      "cell_type": "code",
      "source": [
        "from sklearn.metrics import roc_curve, auc\n",
        "import matplotlib.pyplot as plt\n",
        "\n",
        "plt.figure(figsize=(8, 6))\n",
        "\n",
        "models = {\n",
        "    \"VGG16\": vgg16_model,\n",
        "    \"InceptionV3\": inception_model,\n",
        "    \"DenseNet121\": densenet_model,\n",
        "    \"Bagging Ensemble\": potato_bagging_model\n",
        "}\n",
        "\n",
        "for model_name, model in models.items():\n",
        "    y_probs = model.predict(x_test)  # Get probabilities\n",
        "    fpr, tpr, _ = roc_curve(y_test.ravel(), y_probs.ravel())\n",
        "    roc_auc = auc(fpr, tpr)\n",
        "    plt.plot(fpr, tpr, label=f'{model_name} (AUC = {roc_auc:.2f})')\n",
        "\n",
        "plt.plot([0, 1], [0, 1], 'k--')  # Diagonal baseline\n",
        "plt.xlabel(\"False Positive Rate\")\n",
        "plt.ylabel(\"True Positive Rate\")\n",
        "plt.title(\"ROC Curve for Model Comparison\")\n",
        "plt.legend(loc=\"lower right\")\n",
        "plt.grid()\n",
        "plt.show()\n"
      ],
      "metadata": {
        "colab": {
          "base_uri": "https://localhost:8080/",
          "height": 584
        },
        "id": "Hdh2_SBGojZc",
        "outputId": "0fbe8055-0dcc-4f6f-aa15-247eef8dc305"
      },
      "execution_count": 10,
      "outputs": [
        {
          "output_type": "stream",
          "name": "stdout",
          "text": [
            "\u001b[1m31/31\u001b[0m \u001b[32m━━━━━━━━━━━━━━━━━━━━\u001b[0m\u001b[37m\u001b[0m \u001b[1m277s\u001b[0m 9s/step\n",
            "\u001b[1m31/31\u001b[0m \u001b[32m━━━━━━━━━━━━━━━━━━━━\u001b[0m\u001b[37m\u001b[0m \u001b[1m128s\u001b[0m 4s/step\n",
            "\u001b[1m31/31\u001b[0m \u001b[32m━━━━━━━━━━━━━━━━━━━━\u001b[0m\u001b[37m\u001b[0m \u001b[1m251s\u001b[0m 8s/step\n",
            "\u001b[1m31/31\u001b[0m \u001b[32m━━━━━━━━━━━━━━━━━━━━\u001b[0m\u001b[37m\u001b[0m \u001b[1m600s\u001b[0m 19s/step\n"
          ]
        },
        {
          "output_type": "display_data",
          "data": {
            "text/plain": [
              "<Figure size 800x600 with 1 Axes>"
            ],
            "image/png": "[encoded data removed]"
          },
          "metadata": {}
        }
      ]
    },
    {
      "cell_type": "code",
      "source": [],
      "metadata": {
        "id": "LFg8BXgFta-b"
      },
      "execution_count": null,
      "outputs": []
    }
  ]
}