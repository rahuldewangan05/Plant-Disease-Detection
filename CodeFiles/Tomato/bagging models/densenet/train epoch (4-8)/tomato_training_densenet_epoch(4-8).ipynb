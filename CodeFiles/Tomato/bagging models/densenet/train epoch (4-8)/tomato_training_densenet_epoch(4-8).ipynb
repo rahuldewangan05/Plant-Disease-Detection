{
    "cells": [
        {
            "cell_type": "code",
            "execution_count": null,
            "metadata": {
                "colab": {
                    "base_uri": "https://localhost:8080/"
                },
                "id": "cNu3_fnRnL9e",
                "outputId": "150de189-87fe-4043-9598-4649d4bd812a"
            },
            "outputs": [
                {
                    "name": "stdout",
                    "output_type": "stream",
                    "text": [
                        "Mounted at /content/drive\n"
                    ]
                }
            ],
            "source": [
                "from google.colab import drive\n",
                "drive.mount('/content/drive')"
            ]
        },
        {
            "cell_type": "code",
            "execution_count": null,
            "metadata": {
                "colab": {
                    "base_uri": "https://localhost:8080/"
                },
                "id": "2PG4jYd-nMeI",
                "outputId": "4fd985af-a35a-41a7-cdb4-91b9cc53551b"
            },
            "outputs": [
                {
                    "name": "stdout",
                    "output_type": "stream",
                    "text": [
                        "Found existing installation: tensorflow 2.18.0\n",
                        "Uninstalling tensorflow-2.18.0:\n",
                        "  Would remove:\n",
                        "    /usr/local/bin/import_pb_to_tensorboard\n",
                        "    /usr/local/bin/saved_model_cli\n",
                        "    /usr/local/bin/tensorboard\n",
                        "    /usr/local/bin/tf_upgrade_v2\n",
                        "    /usr/local/bin/tflite_convert\n",
                        "    /usr/local/bin/toco\n",
                        "    /usr/local/bin/toco_from_protos\n",
                        "    /usr/local/lib/python3.11/dist-packages/tensorflow-2.18.0.dist-info/*\n",
                        "    /usr/local/lib/python3.11/dist-packages/tensorflow/*\n",
                        "  Would not remove (might be manually added):\n",
                        "    /usr/local/lib/python3.11/dist-packages/tensorflow/include/external/com_google_highway/hwy/aligned_allocator.h\n",
                        "    /usr/local/lib/python3.11/dist-packages/tensorflow/include/external/com_google_highway/hwy/base.h\n",
                        "    /usr/local/lib/python3.11/dist-packages/tensorflow/include/external/com_google_highway/hwy/cache_control.h\n",
                        "    /usr/local/lib/python3.11/dist-packages/tensorflow/include/external/com_google_highway/hwy/contrib/algo/copy-inl.h\n",
                        "    /usr/local/lib/python3.11/dist-packages/tensorflow/include/external/com_google_highway/hwy/contrib/algo/find-inl.h\n",
                        "    /usr/local/lib/python3.11/dist-packages/tensorflow/include/external/com_google_highway/hwy/contrib/algo/transform-inl.h\n",
                        "    /usr/local/lib/python3.11/dist-packages/tensorflow/include/external/com_google_highway/hwy/contrib/sort/order.h\n",
                        "    /usr/local/lib/python3.11/dist-packages/tensorflow/include/external/com_google_highway/hwy/contrib/sort/shared-inl.h\n",
                        "    /usr/local/lib/python3.11/dist-packages/tensorflow/include/external/com_google_highway/hwy/contrib/sort/sorting_networks-inl.h\n",
                        "    /usr/local/lib/python3.11/dist-packages/tensorflow/include/external/com_google_highway/hwy/contrib/sort/traits-inl.h\n",
                        "    /usr/local/lib/python3.11/dist-packages/tensorflow/include/external/com_google_highway/hwy/contrib/sort/traits128-inl.h\n",
                        "    /usr/local/lib/python3.11/dist-packages/tensorflow/include/external/com_google_highway/hwy/contrib/sort/vqsort-inl.h\n",
                        "    /usr/local/lib/python3.11/dist-packages/tensorflow/include/external/com_google_highway/hwy/contrib/sort/vqsort.h\n",
                        "    /usr/local/lib/python3.11/dist-packages/tensorflow/include/external/com_google_highway/hwy/detect_compiler_arch.h\n",
                        "    /usr/local/lib/python3.11/dist-packages/tensorflow/include/external/com_google_highway/hwy/detect_targets.h\n",
                        "    /usr/local/lib/python3.11/dist-packages/tensorflow/include/external/com_google_highway/hwy/foreach_target.h\n",
                        "    /usr/local/lib/python3.11/dist-packages/tensorflow/include/external/com_google_highway/hwy/highway.h\n",
                        "    /usr/local/lib/python3.11/dist-packages/tensorflow/include/external/com_google_highway/hwy/highway_export.h\n",
                        "    /usr/local/lib/python3.11/dist-packages/tensorflow/include/external/com_google_highway/hwy/ops/arm_neon-inl.h\n",
                        "    /usr/local/lib/python3.11/dist-packages/tensorflow/include/external/com_google_highway/hwy/ops/arm_sve-inl.h\n",
                        "    /usr/local/lib/python3.11/dist-packages/tensorflow/include/external/com_google_highway/hwy/ops/emu128-inl.h\n",
                        "    /usr/local/lib/python3.11/dist-packages/tensorflow/include/external/com_google_highway/hwy/ops/generic_ops-inl.h\n",
                        "    /usr/local/lib/python3.11/dist-packages/tensorflow/include/external/com_google_highway/hwy/ops/scalar-inl.h\n",
                        "    /usr/local/lib/python3.11/dist-packages/tensorflow/include/external/com_google_highway/hwy/ops/set_macros-inl.h\n",
                        "    /usr/local/lib/python3.11/dist-packages/tensorflow/include/external/com_google_highway/hwy/ops/shared-inl.h\n",
                        "    /usr/local/lib/python3.11/dist-packages/tensorflow/include/external/com_google_highway/hwy/ops/tuple-inl.h\n",
                        "    /usr/local/lib/python3.11/dist-packages/tensorflow/include/external/com_google_highway/hwy/ops/x86_128-inl.h\n",
                        "    /usr/local/lib/python3.11/dist-packages/tensorflow/include/external/com_google_highway/hwy/ops/x86_256-inl.h\n",
                        "    /usr/local/lib/python3.11/dist-packages/tensorflow/include/external/com_google_highway/hwy/ops/x86_512-inl.h\n",
                        "    /usr/local/lib/python3.11/dist-packages/tensorflow/include/external/com_google_highway/hwy/per_target.cc\n",
                        "    /usr/local/lib/python3.11/dist-packages/tensorflow/include/external/com_google_highway/hwy/per_target.h\n",
                        "    /usr/local/lib/python3.11/dist-packages/tensorflow/include/external/com_google_highway/hwy/print-inl.h\n",
                        "    /usr/local/lib/python3.11/dist-packages/tensorflow/include/external/com_google_highway/hwy/print.h\n",
                        "    /usr/local/lib/python3.11/dist-packages/tensorflow/include/external/com_google_highway/hwy/targets.h\n",
                        "    /usr/local/lib/python3.11/dist-packages/tensorflow/include/external/local_config_nccl/_virtual_includes/nccl_config/third_party/nccl/nccl_config.h\n",
                        "    /usr/local/lib/python3.11/dist-packages/tensorflow/include/external/local_config_nccl/nccl_config.h\n",
                        "    /usr/local/lib/python3.11/dist-packages/tensorflow/include/tensorflow/compiler/jit/xla_tpu_device.h\n",
                        "    /usr/local/lib/python3.11/dist-packages/tensorflow/include/tensorflow/compiler/xla/service/tpu_computation_placer.h\n",
                        "    /usr/local/lib/python3.11/dist-packages/tensorflow/include/tensorflow/compiler/xla/stream_executor/tpu/noncopyable_buffer.h\n",
                        "    /usr/local/lib/python3.11/dist-packages/tensorflow/include/tensorflow/compiler/xla/stream_executor/tpu/status_helper.h\n",
                        "    /usr/local/lib/python3.11/dist-packages/tensorflow/include/tensorflow/compiler/xla/stream_executor/tpu/tpu_api_dlsym_set_fn.h\n",
                        "    /usr/local/lib/python3.11/dist-packages/tensorflow/include/tensorflow/compiler/xla/stream_executor/tpu/tpu_event.h\n",
                        "    /usr/local/lib/python3.11/dist-packages/tensorflow/include/tensorflow/compiler/xla/stream_executor/tpu/tpu_executable.h\n",
                        "    /usr/local/lib/python3.11/dist-packages/tensorflow/include/tensorflow/compiler/xla/stream_executor/tpu/tpu_executable_interface.h\n",
                        "    /usr/local/lib/python3.11/dist-packages/tensorflow/include/tensorflow/compiler/xla/stream_executor/tpu/tpu_executor.h\n",
                        "    /usr/local/lib/python3.11/dist-packages/tensorflow/include/tensorflow/compiler/xla/stream_executor/tpu/tpu_executor_init_fns.inc\n",
                        "    /usr/local/lib/python3.11/dist-packages/tensorflow/include/tensorflow/compiler/xla/stream_executor/tpu/tpu_executor_interface.h\n",
                        "    /usr/local/lib/python3.11/dist-packages/tensorflow/include/tensorflow/compiler/xla/stream_executor/tpu/tpu_initialize_util.h\n",
                        "    /usr/local/lib/python3.11/dist-packages/tensorflow/include/tensorflow/compiler/xla/stream_executor/tpu/tpu_library_init_fns.inc\n",
                        "    /usr/local/lib/python3.11/dist-packages/tensorflow/include/tensorflow/compiler/xla/stream_executor/tpu/tpu_node_context.h\n",
                        "    /usr/local/lib/python3.11/dist-packages/tensorflow/include/tensorflow/compiler/xla/stream_executor/tpu/tpu_op_executable.h\n",
                        "    /usr/local/lib/python3.11/dist-packages/tensorflow/include/tensorflow/compiler/xla/stream_executor/tpu/tpu_platform.h\n",
                        "    /usr/local/lib/python3.11/dist-packages/tensorflow/include/tensorflow/compiler/xla/stream_executor/tpu/tpu_platform_id.h\n",
                        "    /usr/local/lib/python3.11/dist-packages/tensorflow/include/tensorflow/compiler/xla/stream_executor/tpu/tpu_platform_interface.h\n",
                        "    /usr/local/lib/python3.11/dist-packages/tensorflow/include/tensorflow/compiler/xla/stream_executor/tpu/tpu_profiler_init_fns.inc\n",
                        "    /usr/local/lib/python3.11/dist-packages/tensorflow/include/tensorflow/compiler/xla/stream_executor/tpu/tpu_stream.h\n",
                        "    /usr/local/lib/python3.11/dist-packages/tensorflow/include/tensorflow/compiler/xla/stream_executor/tpu/tpu_stream_interface.h\n",
                        "    /usr/local/lib/python3.11/dist-packages/tensorflow/include/tensorflow/compiler/xla/stream_executor/tpu/tpu_topology.h\n",
                        "    /usr/local/lib/python3.11/dist-packages/tensorflow/include/tensorflow/compiler/xla/stream_executor/tpu/tpu_transfer_manager.h\n",
                        "    /usr/local/lib/python3.11/dist-packages/tensorflow/include/tensorflow/compiler/xla/stream_executor/tpu/tpu_transfer_manager_interface.h\n",
                        "    /usr/local/lib/python3.11/dist-packages/tensorflow/include/tensorflow/compiler/xla/stream_executor/tpu/tsl_status_helper.h\n",
                        "    /usr/local/lib/python3.11/dist-packages/tensorflow/include/tensorflow/core/common_runtime/device_propagation.h\n",
                        "    /usr/local/lib/python3.11/dist-packages/tensorflow/include/tensorflow/core/common_runtime/next_pluggable_device/c/outside_compilation_params.h\n",
                        "    /usr/local/lib/python3.11/dist-packages/tensorflow/include/tensorflow/core/framework/attr_value.pb_text-impl.h\n",
                        "    /usr/local/lib/python3.11/dist-packages/tensorflow/include/tensorflow/core/framework/attr_value.pb_text.h\n",
                        "    /usr/local/lib/python3.11/dist-packages/tensorflow/include/tensorflow/core/framework/resource_handle.pb_text-impl.h\n",
                        "    /usr/local/lib/python3.11/dist-packages/tensorflow/include/tensorflow/core/framework/resource_handle.pb_text.h\n",
                        "    /usr/local/lib/python3.11/dist-packages/tensorflow/include/tensorflow/core/framework/tensor.pb_text-impl.h\n",
                        "    /usr/local/lib/python3.11/dist-packages/tensorflow/include/tensorflow/core/framework/tensor.pb_text.h\n",
                        "    /usr/local/lib/python3.11/dist-packages/tensorflow/include/tensorflow/core/framework/tensor_shape.pb_text-impl.h\n",
                        "    /usr/local/lib/python3.11/dist-packages/tensorflow/include/tensorflow/core/framework/tensor_shape.pb_text.h\n",
                        "    /usr/local/lib/python3.11/dist-packages/tensorflow/include/tensorflow/core/framework/types.pb_text-impl.h\n",
                        "    /usr/local/lib/python3.11/dist-packages/tensorflow/include/tensorflow/core/framework/types.pb_text.h\n",
                        "    /usr/local/lib/python3.11/dist-packages/tensorflow/include/tensorflow/core/protobuf/tpu/compilation_result.pb.h\n",
                        "    /usr/local/lib/python3.11/dist-packages/tensorflow/include/tensorflow/core/tpu/graph_rewrite/combine_tpu_embedding_load_retrieve_pass.h\n",
                        "    /usr/local/lib/python3.11/dist-packages/tensorflow/include/tensorflow/core/tpu/graph_rewrite/cond_builder.h\n",
                        "    /usr/local/lib/python3.11/dist-packages/tensorflow/include/tensorflow/core/tpu/graph_rewrite/configure_tpu_embedding_rewrite_pass.h\n",
                        "    /usr/local/lib/python3.11/dist-packages/tensorflow/include/tensorflow/core/tpu/graph_rewrite/distributed_tpu_configuration_rewrite_pass.h\n",
                        "    /usr/local/lib/python3.11/dist-packages/tensorflow/include/tensorflow/core/tpu/graph_rewrite/distributed_tpu_rewrite_helpers.h\n",
                        "    /usr/local/lib/python3.11/dist-packages/tensorflow/include/tensorflow/core/tpu/graph_rewrite/distributed_tpu_rewrite_pass.h\n",
                        "    /usr/local/lib/python3.11/dist-packages/tensorflow/include/tensorflow/core/tpu/graph_rewrite/distributed_tpu_rewrite_pass_internal.h\n",
                        "    /usr/local/lib/python3.11/dist-packages/tensorflow/include/tensorflow/core/tpu/graph_rewrite/encapsulate_tpu_computations_pass.h\n",
                        "    /usr/local/lib/python3.11/dist-packages/tensorflow/include/tensorflow/core/tpu/graph_rewrite/host_training_loop_optimization_util.h\n",
                        "    /usr/local/lib/python3.11/dist-packages/tensorflow/include/tensorflow/core/tpu/graph_rewrite/incomplete_nodedef_builder.h\n",
                        "    /usr/local/lib/python3.11/dist-packages/tensorflow/include/tensorflow/core/tpu/graph_rewrite/tpu_embedding_rewrite_pass_utils.h\n",
                        "    /usr/local/lib/python3.11/dist-packages/tensorflow/include/tensorflow/core/tpu/graph_rewrite/tpu_embedding_software_deduplication_rewrite_pass.h\n",
                        "    /usr/local/lib/python3.11/dist-packages/tensorflow/include/tensorflow/core/tpu/graph_rewrite/update_tpu_embedding_ops_passes.h\n",
                        "    /usr/local/lib/python3.11/dist-packages/tensorflow/include/tensorflow/core/tpu/graph_rewrite/variable_merger_pass.h\n",
                        "    /usr/local/lib/python3.11/dist-packages/tensorflow/include/tensorflow/core/tpu/kernels/compiled_subgraph.h\n",
                        "    /usr/local/lib/python3.11/dist-packages/tensorflow/include/tensorflow/core/tpu/kernels/infeed_ops.h\n",
                        "    /usr/local/lib/python3.11/dist-packages/tensorflow/include/tensorflow/core/tpu/kernels/outfeed_ops.h\n",
                        "    /usr/local/lib/python3.11/dist-packages/tensorflow/include/tensorflow/core/tpu/kernels/sharding_utils.h\n",
                        "    /usr/local/lib/python3.11/dist-packages/tensorflow/include/tensorflow/core/tpu/kernels/sparse_core_ops_stats_handler.h\n",
                        "    /usr/local/lib/python3.11/dist-packages/tensorflow/include/tensorflow/core/tpu/kernels/sparse_core_ops_utils.h\n",
                        "    /usr/local/lib/python3.11/dist-packages/tensorflow/include/tensorflow/core/tpu/kernels/sparse_core_preprocess_ops.h\n",
                        "    /usr/local/lib/python3.11/dist-packages/tensorflow/include/tensorflow/core/tpu/kernels/sparse_core_xla_ops.h\n",
                        "    /usr/local/lib/python3.11/dist-packages/tensorflow/include/tensorflow/core/tpu/kernels/tpu_compilation_cache.pb.h\n",
                        "    /usr/local/lib/python3.11/dist-packages/tensorflow/include/tensorflow/core/tpu/kernels/tpu_compilation_cache_common.pb.h\n",
                        "    /usr/local/lib/python3.11/dist-packages/tensorflow/include/tensorflow/core/tpu/kernels/tpu_compilation_cache_entry.h\n",
                        "    /usr/local/lib/python3.11/dist-packages/tensorflow/include/tensorflow/core/tpu/kernels/tpu_compilation_cache_entry_unloader.h\n",
                        "    /usr/local/lib/python3.11/dist-packages/tensorflow/include/tensorflow/core/tpu/kernels/tpu_compilation_cache_external.h\n",
                        "    /usr/local/lib/python3.11/dist-packages/tensorflow/include/tensorflow/core/tpu/kernels/tpu_compilation_cache_factory.h\n",
                        "    /usr/local/lib/python3.11/dist-packages/tensorflow/include/tensorflow/core/tpu/kernels/tpu_compilation_cache_grpc.h\n",
                        "    /usr/local/lib/python3.11/dist-packages/tensorflow/include/tensorflow/core/tpu/kernels/tpu_compilation_cache_interface.h\n",
                        "    /usr/local/lib/python3.11/dist-packages/tensorflow/include/tensorflow/core/tpu/kernels/tpu_compilation_cache_key.h\n",
                        "    /usr/local/lib/python3.11/dist-packages/tensorflow/include/tensorflow/core/tpu/kernels/tpu_compilation_cache_local_lookup.h\n",
                        "    /usr/local/lib/python3.11/dist-packages/tensorflow/include/tensorflow/core/tpu/kernels/tpu_compilation_cache_lookup.h\n",
                        "    /usr/local/lib/python3.11/dist-packages/tensorflow/include/tensorflow/core/tpu/kernels/tpu_compilation_cache_rpc_lookup.h\n",
                        "    /usr/local/lib/python3.11/dist-packages/tensorflow/include/tensorflow/core/tpu/kernels/tpu_compilation_cache_rpc_support.h\n",
                        "    /usr/local/lib/python3.11/dist-packages/tensorflow/include/tensorflow/core/tpu/kernels/tpu_compilation_cache_service.h\n",
                        "    /usr/local/lib/python3.11/dist-packages/tensorflow/include/tensorflow/core/tpu/kernels/tpu_compilation_metrics.h\n",
                        "    /usr/local/lib/python3.11/dist-packages/tensorflow/include/tensorflow/core/tpu/kernels/tpu_compile.pb.h\n",
                        "    /usr/local/lib/python3.11/dist-packages/tensorflow/include/tensorflow/core/tpu/kernels/tpu_compile_op.h\n",
                        "    /usr/local/lib/python3.11/dist-packages/tensorflow/include/tensorflow/core/tpu/kernels/tpu_compile_op_common.h\n",
                        "    /usr/local/lib/python3.11/dist-packages/tensorflow/include/tensorflow/core/tpu/kernels/tpu_compile_op_impl.h\n",
                        "    /usr/local/lib/python3.11/dist-packages/tensorflow/include/tensorflow/core/tpu/kernels/tpu_compile_op_options.h\n",
                        "    /usr/local/lib/python3.11/dist-packages/tensorflow/include/tensorflow/core/tpu/kernels/tpu_compile_op_support.h\n",
                        "    /usr/local/lib/python3.11/dist-packages/tensorflow/include/tensorflow/core/tpu/kernels/tpu_configuration_ops.h\n",
                        "    /usr/local/lib/python3.11/dist-packages/tensorflow/include/tensorflow/core/tpu/kernels/tpu_embedding_engine_state_interface.h\n",
                        "    /usr/local/lib/python3.11/dist-packages/tensorflow/include/tensorflow/core/tpu/kernels/tpu_embedding_enqueue_ops.h\n",
                        "    /usr/local/lib/python3.11/dist-packages/tensorflow/include/tensorflow/core/tpu/kernels/tpu_embedding_load_retrieve_ops.h\n",
                        "    /usr/local/lib/python3.11/dist-packages/tensorflow/include/tensorflow/core/tpu/kernels/tpu_executable_info.pb.h\n",
                        "    /usr/local/lib/python3.11/dist-packages/tensorflow/include/tensorflow/core/tpu/kernels/tpu_execute_op.h\n",
                        "    /usr/local/lib/python3.11/dist-packages/tensorflow/include/tensorflow/core/tpu/kernels/tpu_execute_op_options.h\n",
                        "    /usr/local/lib/python3.11/dist-packages/tensorflow/include/tensorflow/core/tpu/kernels/tpu_fingerprint_lookup.h\n",
                        "    /usr/local/lib/python3.11/dist-packages/tensorflow/include/tensorflow/core/tpu/kernels/tpu_functional_ops.h\n",
                        "    /usr/local/lib/python3.11/dist-packages/tensorflow/include/tensorflow/core/tpu/kernels/tpu_mesh_state_interface.h\n",
                        "    /usr/local/lib/python3.11/dist-packages/tensorflow/include/tensorflow/core/tpu/kernels/tpu_op_consts.h\n",
                        "    /usr/local/lib/python3.11/dist-packages/tensorflow/include/tensorflow/core/tpu/kernels/tpu_op_util.h\n",
                        "    /usr/local/lib/python3.11/dist-packages/tensorflow/include/tensorflow/core/tpu/kernels/tpu_ordinal_selector.h\n",
                        "    /usr/local/lib/python3.11/dist-packages/tensorflow/include/tensorflow/core/tpu/kernels/tpu_ordinal_selector_interface.h\n",
                        "    /usr/local/lib/python3.11/dist-packages/tensorflow/include/tensorflow/core/tpu/kernels/tpu_pod_state.h\n",
                        "    /usr/local/lib/python3.11/dist-packages/tensorflow/include/tensorflow/core/tpu/kernels/tpu_program_group.h\n",
                        "    /usr/local/lib/python3.11/dist-packages/tensorflow/include/tensorflow/core/tpu/kernels/tpu_program_group_interface.h\n",
                        "    /usr/local/lib/python3.11/dist-packages/tensorflow/include/tensorflow/core/tpu/kernels/tpu_reshard_variables_op.h\n",
                        "    /usr/local/lib/python3.11/dist-packages/tensorflow/include/tensorflow/core/tpu/kernels/tpu_reshard_variables_op_util.h\n",
                        "    /usr/local/lib/python3.11/dist-packages/tensorflow/include/tensorflow/core/tpu/kernels/tpu_util.h\n",
                        "    /usr/local/lib/python3.11/dist-packages/tensorflow/include/tensorflow/core/tpu/kernels/trace_util.h\n",
                        "    /usr/local/lib/python3.11/dist-packages/tensorflow/include/tensorflow/core/tpu/kernels/transfer_ops.h\n",
                        "    /usr/local/lib/python3.11/dist-packages/tensorflow/include/tensorflow/core/tpu/tpu_compile_interface.h\n",
                        "    /usr/local/lib/python3.11/dist-packages/tensorflow/include/tensorflow/core/tpu/tpu_configuration.h\n",
                        "    /usr/local/lib/python3.11/dist-packages/tensorflow/include/tensorflow/core/tpu/tpu_embedding_configuration_proto_rewrite.h\n",
                        "    /usr/local/lib/python3.11/dist-packages/tensorflow/include/tensorflow/core/tpu/tpu_embedding_configuration_utils.h\n",
                        "    /usr/local/lib/python3.11/dist-packages/tensorflow/include/tensorflow/core/tpu/tpu_embedding_spmd_sharding_utils.h\n",
                        "    /usr/local/lib/python3.11/dist-packages/tensorflow/include/tensorflow/core/tpu/tpu_execute.h\n",
                        "    /usr/local/lib/python3.11/dist-packages/tensorflow/include/tensorflow/core/tpu/tpu_fingerprint_utils.h\n",
                        "    /usr/local/lib/python3.11/dist-packages/tensorflow/include/tensorflow/core/tpu/tpu_init_mode.h\n",
                        "    /usr/local/lib/python3.11/dist-packages/tensorflow/include/tensorflow/core/tpu/tpu_node_device_util.h\n",
                        "    /usr/local/lib/python3.11/dist-packages/tensorflow/include/tensorflow/core/tpu/virtual_device.h\n",
                        "    /usr/local/lib/python3.11/dist-packages/tensorflow/include/tensorflow/dtensor/cc/dstatus.h\n",
                        "    /usr/local/lib/python3.11/dist-packages/tensorflow/include/tensorflow/dtensor/cc/tpu_system_interface.h\n",
                        "    /usr/local/lib/python3.11/dist-packages/tensorflow/include/xla/service/tpu_computation_placer.h\n",
                        "    /usr/local/lib/python3.11/dist-packages/tensorflow/include/xla/stream_executor/tpu/noncopyable_buffer.h\n",
                        "    /usr/local/lib/python3.11/dist-packages/tensorflow/include/xla/stream_executor/tpu/status_helper.h\n",
                        "    /usr/local/lib/python3.11/dist-packages/tensorflow/include/xla/stream_executor/tpu/tpu_api_dlsym_set_fn.h\n",
                        "    /usr/local/lib/python3.11/dist-packages/tensorflow/include/xla/stream_executor/tpu/tpu_event.h\n",
                        "    /usr/local/lib/python3.11/dist-packages/tensorflow/include/xla/stream_executor/tpu/tpu_executable.h\n",
                        "    /usr/local/lib/python3.11/dist-packages/tensorflow/include/xla/stream_executor/tpu/tpu_executable_interface.h\n",
                        "    /usr/local/lib/python3.11/dist-packages/tensorflow/include/xla/stream_executor/tpu/tpu_executor.h\n",
                        "    /usr/local/lib/python3.11/dist-packages/tensorflow/include/xla/stream_executor/tpu/tpu_executor_init_fns.inc\n",
                        "    /usr/local/lib/python3.11/dist-packages/tensorflow/include/xla/stream_executor/tpu/tpu_executor_interface.h\n",
                        "    /usr/local/lib/python3.11/dist-packages/tensorflow/include/xla/stream_executor/tpu/tpu_initialize_util.h\n",
                        "    /usr/local/lib/python3.11/dist-packages/tensorflow/include/xla/stream_executor/tpu/tpu_library_init_fns.inc\n",
                        "    /usr/local/lib/python3.11/dist-packages/tensorflow/include/xla/stream_executor/tpu/tpu_node_context.h\n",
                        "    /usr/local/lib/python3.11/dist-packages/tensorflow/include/xla/stream_executor/tpu/tpu_op_executable.h\n",
                        "    /usr/local/lib/python3.11/dist-packages/tensorflow/include/xla/stream_executor/tpu/tpu_platform.h\n",
                        "    /usr/local/lib/python3.11/dist-packages/tensorflow/include/xla/stream_executor/tpu/tpu_platform_id.h\n",
                        "    /usr/local/lib/python3.11/dist-packages/tensorflow/include/xla/stream_executor/tpu/tpu_platform_interface.h\n",
                        "    /usr/local/lib/python3.11/dist-packages/tensorflow/include/xla/stream_executor/tpu/tpu_profiler_init_fns.inc\n",
                        "    /usr/local/lib/python3.11/dist-packages/tensorflow/include/xla/stream_executor/tpu/tpu_stream.h\n",
                        "    /usr/local/lib/python3.11/dist-packages/tensorflow/include/xla/stream_executor/tpu/tpu_stream_interface.h\n",
                        "    /usr/local/lib/python3.11/dist-packages/tensorflow/include/xla/stream_executor/tpu/tpu_topology.h\n",
                        "    /usr/local/lib/python3.11/dist-packages/tensorflow/include/xla/stream_executor/tpu/tpu_transfer_manager.h\n",
                        "    /usr/local/lib/python3.11/dist-packages/tensorflow/include/xla/stream_executor/tpu/tpu_transfer_manager_interface.h\n",
                        "    /usr/local/lib/python3.11/dist-packages/tensorflow/include/xla/stream_executor/tpu/tsl_status_helper.h\n",
                        "    /usr/local/lib/python3.11/dist-packages/tensorflow/python/framework/is_mlir_bridge_test_true.py\n",
                        "    /usr/local/lib/python3.11/dist-packages/tensorflow/python/tools/grpc_tpu_worker.py\n",
                        "    /usr/local/lib/python3.11/dist-packages/tensorflow/python/tools/grpc_tpu_worker_service.py\n",
                        "Proceed (Y/n)? y\n",
                        "  Successfully uninstalled tensorflow-2.18.0\n"
                    ]
                }
            ],
            "source": [
                "pip uninstall tensorflow"
            ]
        },
        {
            "cell_type": "code",
            "execution_count": null,
            "metadata": {
                "colab": {
                    "base_uri": "https://localhost:8080/"
                },
                "id": "LIpn3k38nPeS",
                "outputId": "3a1e121a-aeee-4ab8-ff14-8bba89a33f66"
            },
            "outputs": [
                {
                    "name": "stdout",
                    "output_type": "stream",
                    "text": [
                        "Collecting tensorflow\n",
                        "  Downloading tensorflow-2.18.0-cp311-cp311-manylinux_2_17_x86_64.manylinux2014_x86_64.whl.metadata (4.1 kB)\n",
                        "Requirement already satisfied: absl-py>=1.0.0 in /usr/local/lib/python3.11/dist-packages (from tensorflow) (1.4.0)\n",
                        "Requirement already satisfied: astunparse>=1.6.0 in /usr/local/lib/python3.11/dist-packages (from tensorflow) (1.6.3)\n",
                        "Requirement already satisfied: flatbuffers>=24.3.25 in /usr/local/lib/python3.11/dist-packages (from tensorflow) (25.1.24)\n",
                        "Requirement already satisfied: gast!=0.5.0,!=0.5.1,!=0.5.2,>=0.2.1 in /usr/local/lib/python3.11/dist-packages (from tensorflow) (0.6.0)\n",
                        "Requirement already satisfied: google-pasta>=0.1.1 in /usr/local/lib/python3.11/dist-packages (from tensorflow) (0.2.0)\n",
                        "Requirement already satisfied: libclang>=13.0.0 in /usr/local/lib/python3.11/dist-packages (from tensorflow) (18.1.1)\n",
                        "Requirement already satisfied: opt-einsum>=2.3.2 in /usr/local/lib/python3.11/dist-packages (from tensorflow) (3.4.0)\n",
                        "Requirement already satisfied: packaging in /usr/local/lib/python3.11/dist-packages (from tensorflow) (24.2)\n",
                        "Requirement already satisfied: protobuf!=4.21.0,!=4.21.1,!=4.21.2,!=4.21.3,!=4.21.4,!=4.21.5,<6.0.0dev,>=3.20.3 in /usr/local/lib/python3.11/dist-packages (from tensorflow) (5.29.3)\n",
                        "Requirement already satisfied: requests<3,>=2.21.0 in /usr/local/lib/python3.11/dist-packages (from tensorflow) (2.32.3)\n",
                        "Requirement already satisfied: setuptools in /usr/local/lib/python3.11/dist-packages (from tensorflow) (75.1.0)\n",
                        "Requirement already satisfied: six>=1.12.0 in /usr/local/lib/python3.11/dist-packages (from tensorflow) (1.17.0)\n",
                        "Requirement already satisfied: termcolor>=1.1.0 in /usr/local/lib/python3.11/dist-packages (from tensorflow) (2.5.0)\n",
                        "Requirement already satisfied: typing-extensions>=3.6.6 in /usr/local/lib/python3.11/dist-packages (from tensorflow) (4.12.2)\n",
                        "Requirement already satisfied: wrapt>=1.11.0 in /usr/local/lib/python3.11/dist-packages (from tensorflow) (1.17.2)\n",
                        "Requirement already satisfied: grpcio<2.0,>=1.24.3 in /usr/local/lib/python3.11/dist-packages (from tensorflow) (1.70.0)\n",
                        "Requirement already satisfied: tensorboard<2.19,>=2.18 in /usr/local/lib/python3.11/dist-packages (from tensorflow) (2.18.0)\n",
                        "Requirement already satisfied: keras>=3.5.0 in /usr/local/lib/python3.11/dist-packages (from tensorflow) (3.8.0)\n",
                        "Requirement already satisfied: numpy<2.1.0,>=1.26.0 in /usr/local/lib/python3.11/dist-packages (from tensorflow) (1.26.4)\n",
                        "Requirement already satisfied: h5py>=3.11.0 in /usr/local/lib/python3.11/dist-packages (from tensorflow) (3.12.1)\n",
                        "Requirement already satisfied: ml-dtypes<0.5.0,>=0.4.0 in /usr/local/lib/python3.11/dist-packages (from tensorflow) (0.4.1)\n",
                        "Requirement already satisfied: tensorflow-io-gcs-filesystem>=0.23.1 in /usr/local/lib/python3.11/dist-packages (from tensorflow) (0.37.1)\n",
                        "Requirement already satisfied: wheel<1.0,>=0.23.0 in /usr/local/lib/python3.11/dist-packages (from astunparse>=1.6.0->tensorflow) (0.45.1)\n",
                        "Requirement already satisfied: rich in /usr/local/lib/python3.11/dist-packages (from keras>=3.5.0->tensorflow) (13.9.4)\n",
                        "Requirement already satisfied: namex in /usr/local/lib/python3.11/dist-packages (from keras>=3.5.0->tensorflow) (0.0.8)\n",
                        "Requirement already satisfied: optree in /usr/local/lib/python3.11/dist-packages (from keras>=3.5.0->tensorflow) (0.14.0)\n",
                        "Requirement already satisfied: charset-normalizer<4,>=2 in /usr/local/lib/python3.11/dist-packages (from requests<3,>=2.21.0->tensorflow) (3.4.1)\n",
                        "Requirement already satisfied: idna<4,>=2.5 in /usr/local/lib/python3.11/dist-packages (from requests<3,>=2.21.0->tensorflow) (3.10)\n",
                        "Requirement already satisfied: urllib3<3,>=1.21.1 in /usr/local/lib/python3.11/dist-packages (from requests<3,>=2.21.0->tensorflow) (2.3.0)\n",
                        "Requirement already satisfied: certifi>=2017.4.17 in /usr/local/lib/python3.11/dist-packages (from requests<3,>=2.21.0->tensorflow) (2025.1.31)\n",
                        "Requirement already satisfied: markdown>=2.6.8 in /usr/local/lib/python3.11/dist-packages (from tensorboard<2.19,>=2.18->tensorflow) (3.7)\n",
                        "Requirement already satisfied: tensorboard-data-server<0.8.0,>=0.7.0 in /usr/local/lib/python3.11/dist-packages (from tensorboard<2.19,>=2.18->tensorflow) (0.7.2)\n",
                        "Requirement already satisfied: werkzeug>=1.0.1 in /usr/local/lib/python3.11/dist-packages (from tensorboard<2.19,>=2.18->tensorflow) (3.1.3)\n",
                        "Requirement already satisfied: MarkupSafe>=2.1.1 in /usr/local/lib/python3.11/dist-packages (from werkzeug>=1.0.1->tensorboard<2.19,>=2.18->tensorflow) (3.0.2)\n",
                        "Requirement already satisfied: markdown-it-py>=2.2.0 in /usr/local/lib/python3.11/dist-packages (from rich->keras>=3.5.0->tensorflow) (3.0.0)\n",
                        "Requirement already satisfied: pygments<3.0.0,>=2.13.0 in /usr/local/lib/python3.11/dist-packages (from rich->keras>=3.5.0->tensorflow) (2.19.1)\n",
                        "Requirement already satisfied: mdurl~=0.1 in /usr/local/lib/python3.11/dist-packages (from markdown-it-py>=2.2.0->rich->keras>=3.5.0->tensorflow) (0.1.2)\n",
                        "Downloading tensorflow-2.18.0-cp311-cp311-manylinux_2_17_x86_64.manylinux2014_x86_64.whl (615.4 MB)\n",
                        "\u001b[2K   \u001b[90m\u2501\u2501\u2501\u2501\u2501\u2501\u2501\u2501\u2501\u2501\u2501\u2501\u2501\u2501\u2501\u2501\u2501\u2501\u2501\u2501\u2501\u2501\u2501\u2501\u2501\u2501\u2501\u2501\u2501\u2501\u2501\u2501\u2501\u2501\u2501\u2501\u2501\u2501\u2501\u2501\u001b[0m \u001b[32m615.4/615.4 MB\u001b[0m \u001b[31m1.6 MB/s\u001b[0m eta \u001b[36m0:00:00\u001b[0m\n",
                        "\u001b[?25hInstalling collected packages: tensorflow\n",
                        "Successfully installed tensorflow-2.18.0\n"
                    ]
                }
            ],
            "source": [
                "pip install tensorflow"
            ]
        },
        {
            "cell_type": "code",
            "execution_count": 1,
            "metadata": {
                "id": "WNRB-nyoFoOs"
            },
            "outputs": [],
            "source": [
                "import numpy as np\n",
                "import tensorflow as tf"
            ]
        },
        {
            "cell_type": "code",
            "execution_count": null,
            "metadata": {
                "id": "Or8ZHX07Ftap"
            },
            "outputs": [],
            "source": [
                "data = np.load(\"/content/tomato_bagging_vgg16_dataset.npz\")\n",
                "\n",
                "x_train_subset = data['x_train_subset']\n",
                "y_train_subset = data['y_train_subset']\n",
                "x_test = data['x_test']\n",
                "y_test = data['y_test']"
            ]
        },
        {
            "cell_type": "code",
            "execution_count": null,
            "metadata": {
                "id": "XUbT6jnKFwN_"
            },
            "outputs": [],
            "source": [
                "# Ensure eager execution is enabled\n",
                "tf.config.run_functions_eagerly(True)\n",
                "tf.data.experimental.enable_debug_mode()"
            ]
        },
        {
            "cell_type": "code",
            "execution_count": null,
            "metadata": {
                "colab": {
                    "base_uri": "https://localhost:8080/"
                },
                "id": "9ca0zsOvFz88",
                "outputId": "adc2410e-f670-435a-dec3-4f17c6908058"
            },
            "outputs": [
                {
                    "name": "stderr",
                    "output_type": "stream",
                    "text": [
                        "WARNING:absl:Compiled the loaded model, but the compiled metrics have yet to be built. `model.compile_metrics` will be empty until you train or evaluate the model.\n"
                    ]
                }
            ],
            "source": [
                "from tensorflow.keras.models import load_model\n",
                "\n",
                "model = load_model('/content/tomato_vgg16_bagging_epoch(0-4).h5')"
            ]
        },
        {
            "cell_type": "code",
            "execution_count": null,
            "metadata": {
                "id": "jsWxkjtWF2h2"
            },
            "outputs": [],
            "source": [
                "from tensorflow.keras.optimizers import AdamW\n",
                "optimizer = AdamW(learning_rate=1e-4, weight_decay=1e-4)\n",
                "model.compile(optimizer=optimizer, loss=\"categorical_crossentropy\", metrics=[\"accuracy\"])"
            ]
        },
        {
            "cell_type": "code",
            "execution_count": null,
            "metadata": {
                "colab": {
                    "base_uri": "https://localhost:8080/"
                },
                "id": "Ab67cmB2GPHS",
                "outputId": "705cb1f7-d158-4755-e87f-67449dde9172"
            },
            "outputs": [
                {
                    "name": "stdout",
                    "output_type": "stream",
                    "text": [
                        "Epoch 1/4\n",
                        "\u001b[1m51/51\u001b[0m \u001b[32m\u2501\u2501\u2501\u2501\u2501\u2501\u2501\u2501\u2501\u2501\u2501\u2501\u2501\u2501\u2501\u2501\u2501\u2501\u2501\u2501\u001b[0m\u001b[37m\u001b[0m \u001b[1m2135s\u001b[0m 42s/step - accuracy: 0.9986 - loss: 0.0074 - val_accuracy: 0.9808 - val_loss: 0.1260\n",
                        "Epoch 2/4\n",
                        "\u001b[1m51/51\u001b[0m \u001b[32m\u2501\u2501\u2501\u2501\u2501\u2501\u2501\u2501\u2501\u2501\u2501\u2501\u2501\u2501\u2501\u2501\u2501\u2501\u2501\u2501\u001b[0m\u001b[37m\u001b[0m \u001b[1m2246s\u001b[0m 44s/step - accuracy: 0.9947 - loss: 0.0131 - val_accuracy: 0.9859 - val_loss: 0.0544\n",
                        "Epoch 3/4\n",
                        "\u001b[1m51/51\u001b[0m \u001b[32m\u2501\u2501\u2501\u2501\u2501\u2501\u2501\u2501\u2501\u2501\u2501\u2501\u2501\u2501\u2501\u2501\u2501\u2501\u2501\u2501\u001b[0m\u001b[37m\u001b[0m \u001b[1m2328s\u001b[0m 46s/step - accuracy: 0.9966 - loss: 0.0118 - val_accuracy: 0.9526 - val_loss: 0.3901\n",
                        "Epoch 4/4\n",
                        "\u001b[1m51/51\u001b[0m \u001b[32m\u2501\u2501\u2501\u2501\u2501\u2501\u2501\u2501\u2501\u2501\u2501\u2501\u2501\u2501\u2501\u2501\u2501\u2501\u2501\u2501\u001b[0m\u001b[37m\u001b[0m \u001b[1m2359s\u001b[0m 46s/step - accuracy: 0.9938 - loss: 0.0154 - val_accuracy: 0.9839 - val_loss: 0.0911\n"
                    ]
                }
            ],
            "source": [
                "history=model.fit(x_train_subset, y_train_subset, validation_data=(x_test, y_test),epochs=4, batch_size=32, verbose=1)"
            ]
        },
        {
            "cell_type": "code",
            "execution_count": null,
            "metadata": {
                "id": "rBMjytrUGkw-"
            },
            "outputs": [],
            "source": [
                "def save_to_collab(model):\n",
                "  model.save(\"/content/drive/My Drive/tomato_vgg16_bagging_epoch(4-8).h5\")\n",
                "  with open(\"/content/drive/My Drive/tomato_vgg16_bagging_epoch(4-8).pkl\", 'wb') as file:\n",
                "    pickle.dump(model, file)\n",
                "\n",
                "\n",
                "def save_to_local(model):\n",
                "  model.save(\"tomato_vgg16_bagging_epoch(4-8).h5\")\n",
                "  with open(\"tomato_vgg16_bagging_epoch(4-8).pkl\", 'wb') as file:\n",
                "    pickle.dump(model, file)"
            ]
        },
        {
            "cell_type": "code",
            "execution_count": null,
            "metadata": {
                "colab": {
                    "base_uri": "https://localhost:8080/"
                },
                "id": "MxegdmxNGupU",
                "outputId": "b0e700c4-a459-44c6-a3d5-cdfbd40047a2"
            },
            "outputs": [
                {
                    "name": "stderr",
                    "output_type": "stream",
                    "text": [
                        "WARNING:absl:You are saving your model as an HDF5 file via `model.save()` or `keras.saving.save_model(model)`. This file format is considered legacy. We recommend using instead the native Keras format, e.g. `model.save('my_model.keras')` or `keras.saving.save_model(model, 'my_model.keras')`. \n",
                        "WARNING:absl:You are saving your model as an HDF5 file via `model.save()` or `keras.saving.save_model(model)`. This file format is considered legacy. We recommend using instead the native Keras format, e.g. `model.save('my_model.keras')` or `keras.saving.save_model(model, 'my_model.keras')`. \n"
                    ]
                }
            ],
            "source": [
                "import pickle\n",
                "save_to_collab(model)\n",
                "save_to_local(model)"
            ]
        },
        {
            "cell_type": "code",
            "execution_count": null,
            "metadata": {
                "id": "ycJn4riGHeWS"
            },
            "outputs": [],
            "source": [
                "def plot_accuracy_graph(history_model):\n",
                "  plt.figure(figsize=(5,5))\n",
                "  plt.plot(history_model.history[\"accuracy\"],color=\"r\")\n",
                "  plt.plot(history_model.history[\"val_accuracy\"],color=\"b\")\n",
                "  plt.title(\"Model Accuracy\")\n",
                "  plt.ylabel(\"Accuracy\")\n",
                "  plt.xlabel(\"Epochs\")\n",
                "  plt.legend([\"train\",\"val\"])\n",
                "  save_path = \"/content/drive/My Drive/accuracy_curve_tomato_vgg16_bagging_epoch(4-8).png\"\n",
                "  plt.savefig(save_path)\n",
                "  plt.show()"
            ]
        },
        {
            "cell_type": "code",
            "execution_count": null,
            "metadata": {
                "id": "cO5QlEqCHl6f"
            },
            "outputs": [],
            "source": [
                "def plot_loss_graph(history_model):\n",
                "  plt.figure(figsize=(5,5))\n",
                "  plt.plot(history_model.history[\"loss\"],color=\"r\")\n",
                "  plt.plot(history_model.history[\"val_loss\"],color=\"b\")\n",
                "  plt.title(\"Model loss\")\n",
                "  plt.ylabel(\"Loss\")\n",
                "  plt.xlabel(\"Epochs\")\n",
                "  plt.legend([\"train\",\"val\"])\n",
                "  save_path = \"/content/drive/My Drive/loss_curve_tomato_vgg16_bagging_epoch(4-8).png\"\n",
                "  plt.savefig(save_path)\n",
                "  plt.show()"
            ]
        },
        {
            "cell_type": "code",
            "execution_count": null,
            "metadata": {
                "id": "qQMfOFF3Yqk1"
            },
            "outputs": [],
            "source": [
                "import matplotlib.pyplot as plt"
            ]
        },
        {
            "cell_type": "code",
            "execution_count": null,
            "metadata": {
                "colab": {
                    "base_uri": "https://localhost:8080/",
                    "height": 263
                },
                "id": "Ixby-uYBHwZU",
                "outputId": "29dcc8a5-239d-48b1-eadb-774a69bd63d5"
            },
            "outputs": [
                {
                    "ename": "NameError",
                    "evalue": "name 'plt' is not defined",
                    "output_type": "error",
                    "traceback": [
                        "\u001b[0;31m---------------------------------------------------------------------------\u001b[0m",
                        "\u001b[0;31mNameError\u001b[0m                                 Traceback (most recent call last)",
                        "\u001b[0;32m<ipython-input-16-efbec2278900>\u001b[0m in \u001b[0;36m<cell line: 0>\u001b[0;34m()\u001b[0m\n\u001b[0;32m----> 1\u001b[0;31m \u001b[0mplot_accuracy_graph\u001b[0m\u001b[0;34m(\u001b[0m\u001b[0mhistory\u001b[0m\u001b[0;34m)\u001b[0m\u001b[0;34m\u001b[0m\u001b[0;34m\u001b[0m\u001b[0m\n\u001b[0m",
                        "\u001b[0;32m<ipython-input-14-c7af6e804471>\u001b[0m in \u001b[0;36mplot_accuracy_graph\u001b[0;34m(history_model)\u001b[0m\n\u001b[1;32m      1\u001b[0m \u001b[0;32mdef\u001b[0m \u001b[0mplot_accuracy_graph\u001b[0m\u001b[0;34m(\u001b[0m\u001b[0mhistory_model\u001b[0m\u001b[0;34m)\u001b[0m\u001b[0;34m:\u001b[0m\u001b[0;34m\u001b[0m\u001b[0;34m\u001b[0m\u001b[0m\n\u001b[0;32m----> 2\u001b[0;31m   \u001b[0mplt\u001b[0m\u001b[0;34m.\u001b[0m\u001b[0mfigure\u001b[0m\u001b[0;34m(\u001b[0m\u001b[0mfigsize\u001b[0m\u001b[0;34m=\u001b[0m\u001b[0;34m(\u001b[0m\u001b[0;36m5\u001b[0m\u001b[0;34m,\u001b[0m\u001b[0;36m5\u001b[0m\u001b[0;34m)\u001b[0m\u001b[0;34m)\u001b[0m\u001b[0;34m\u001b[0m\u001b[0;34m\u001b[0m\u001b[0m\n\u001b[0m\u001b[1;32m      3\u001b[0m   \u001b[0mplt\u001b[0m\u001b[0;34m.\u001b[0m\u001b[0mplot\u001b[0m\u001b[0;34m(\u001b[0m\u001b[0mhistory_model\u001b[0m\u001b[0;34m.\u001b[0m\u001b[0mhistory\u001b[0m\u001b[0;34m[\u001b[0m\u001b[0;34m\"accuracy\"\u001b[0m\u001b[0;34m]\u001b[0m\u001b[0;34m,\u001b[0m\u001b[0mcolor\u001b[0m\u001b[0;34m=\u001b[0m\u001b[0;34m\"r\"\u001b[0m\u001b[0;34m)\u001b[0m\u001b[0;34m\u001b[0m\u001b[0;34m\u001b[0m\u001b[0m\n\u001b[1;32m      4\u001b[0m   \u001b[0mplt\u001b[0m\u001b[0;34m.\u001b[0m\u001b[0mplot\u001b[0m\u001b[0;34m(\u001b[0m\u001b[0mhistory_model\u001b[0m\u001b[0;34m.\u001b[0m\u001b[0mhistory\u001b[0m\u001b[0;34m[\u001b[0m\u001b[0;34m\"val_accuracy\"\u001b[0m\u001b[0;34m]\u001b[0m\u001b[0;34m,\u001b[0m\u001b[0mcolor\u001b[0m\u001b[0;34m=\u001b[0m\u001b[0;34m\"b\"\u001b[0m\u001b[0;34m)\u001b[0m\u001b[0;34m\u001b[0m\u001b[0;34m\u001b[0m\u001b[0m\n\u001b[1;32m      5\u001b[0m   \u001b[0mplt\u001b[0m\u001b[0;34m.\u001b[0m\u001b[0mtitle\u001b[0m\u001b[0;34m(\u001b[0m\u001b[0;34m\"densenet Model Accuracy epoch(4-8)\"\u001b[0m\u001b[0;34m)\u001b[0m\u001b[0;34m\u001b[0m\u001b[0;34m\u001b[0m\u001b[0m\n",
                        "\u001b[0;31mNameError\u001b[0m: name 'plt' is not defined"
                    ]
                }
            ],
            "source": [
                "plot_accuracy_graph(history)"
            ]
        },
        {
            "cell_type": "code",
            "execution_count": null,
            "metadata": {
                "id": "vvY2kgJtIwbp"
            },
            "outputs": [],
            "source": [
                "plot_loss_graph(history)\n"
            ]
        },
        {
            "cell_type": "code",
            "execution_count": null,
            "metadata": {
                "id": "iDrvlEZSI14m"
            },
            "outputs": [],
            "source": [
                "def accuracy(model):\n",
                "  print(\"Calculating model accuracy of tomato_vgg16_bagging_epoch(4-8)\")\n",
                "  scores=model.evaluate(x_test,y_test)\n",
                "  print(f\"Test Accuracy: {scores[1]*100}\")"
            ]
        },
        {
            "cell_type": "code",
            "execution_count": 7,
            "metadata": {
                "colab": {
                    "base_uri": "https://localhost:8080/"
                },
                "id": "A6qR2mvOI21y",
                "outputId": "07428963-0c55-47fc-9814-96ccd30e39b4"
            },
            "outputs": [
                {
                    "name": "stdout",
                    "output_type": "stream",
                    "text": [
                        "Calculating model accuracy of densenet epoch(4-8)\n",
                        "\u001b[1m31/31\u001b[0m \u001b[32m\u2501\u2501\u2501\u2501\u2501\u2501\u2501\u2501\u2501\u2501\u2501\u2501\u2501\u2501\u2501\u2501\u2501\u2501\u2501\u2501\u001b[0m\u001b[37m\u001b[0m \u001b[1m152s\u001b[0m 5s/step - accuracy: 0.9823 - loss: 0.0779\n",
                        "Test Accuracy: 97.88092970848083\n"
                    ]
                }
            ],
            "source": [
                "accuracy(model)"
            ]
        }
    ],
    "metadata": {
        "colab": {
            "provenance": []
        },
        "kernelspec": {
            "display_name": "Python 3",
            "name": "python3"
        },
        "language_info": {
            "name": "python"
        }
    },
    "nbformat": 4,
    "nbformat_minor": 0
}